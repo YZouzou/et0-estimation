{
 "cells": [
  {
   "cell_type": "markdown",
   "metadata": {},
   "source": [
    "# Preliminary data examination\n",
    "In this notebook, the received data was examined. The cleaning functions created later are based on this examination of the datasets."
   ]
  },
  {
   "cell_type": "code",
   "execution_count": 1,
   "metadata": {},
   "outputs": [],
   "source": [
    "import pandas as pd\n",
    "import numpy as np\n",
    "import matplotlib.pyplot as plt\n",
    "\n",
    "import re\n",
    "from pathlib import Path\n",
    "import os"
   ]
  },
  {
   "cell_type": "code",
   "execution_count": 2,
   "metadata": {},
   "outputs": [],
   "source": [
    "# Path to the main directory\n",
    "main_dir_path = Path.cwd().parents[0]\n",
    "\n",
    "# Path to the raw data dir\n",
    "raw_data_path = os.path.join(main_dir_path, 'raw_data')\n",
    "\n",
    "# List of all .txt files in raw data dir\n",
    "path_list = list(Path(raw_data_path).glob('*.txt'))\n",
    "file_name_list = [re.sub('\\.txt$', '', path.name) for path in path_list]\n",
    "file_dict = dict(zip(file_name_list, path_list))"
   ]
  },
  {
   "cell_type": "code",
   "execution_count": 3,
   "metadata": {},
   "outputs": [
    {
     "name": "stdout",
     "output_type": "stream",
     "text": [
      "monthly_avg_relative_humidity\n",
      "monthly_avg_solar_radiation\n",
      "monthly_avg_sun_duration\n",
      "monthly_avg_temperature\n",
      "monthly_avg_wind_speed\n",
      "monthly_max_global_solar_radiation\n",
      "monthly_max_relative_humidity\n",
      "monthly_max_temperature\n",
      "monthly_min_relative_humidity\n",
      "monthly_min_temperature\n",
      "monthly_total_global_solar_radiation\n",
      "monthly_total_sun_duration\n",
      "station_definitions\n"
     ]
    }
   ],
   "source": [
    "# Printing all file names\n",
    "for file_name in file_name_list:\n",
    "    print(file_name)"
   ]
  },
  {
   "cell_type": "markdown",
   "metadata": {},
   "source": [
    "## Station definitions\n",
    "This dataset contains the number, name, location, and latitude/longitude of each station.\n",
    "* There is a total of 1298 stations\n",
    "* Station numbers are unique\n",
    "* There are 4 negative elevation values\n",
    "* Names have ? signs in places of Turkish letters"
   ]
  },
  {
   "cell_type": "code",
   "execution_count": 4,
   "metadata": {},
   "outputs": [],
   "source": [
    "df = pd.read_csv(file_dict['station_definitions'], sep='|')\n",
    "\n",
    "rename_dict = {\n",
    "    '?stasyon Numaras?': 'st_num',\n",
    "    '?stasyon Ad?': 'st_name',\n",
    "    '?l': 'province',\n",
    "    '?l?e': 'district',\n",
    "    'Enlem': 'latitude',\n",
    "    'Boylam': 'longitude',\n",
    "    'Rak?m': 'elevation'\n",
    "}\n",
    "\n",
    "df = df.rename(columns=rename_dict)\n",
    "\n",
    "# Renaming provinces with missing letters\n",
    "rename_dict = {\n",
    "    'D?zce': 'Düzce',\n",
    "    'Bart?n': 'Bartın',\n",
    "    '?stanbul': 'İstanbul',\n",
    "    'K?rklareli': 'Kırklareli',\n",
    "    'Karab?k': 'Karabük',\n",
    "    '?ank?r?': 'Çankırı',\n",
    "    '?orum': 'Çorum',\n",
    "    'G?m??hane': 'Gümüşhane',\n",
    "    'A?r?': 'Ağrı',\n",
    "    'I?d?r': 'Iğdır',\n",
    "    '?anakkale': 'Çanakkale',\n",
    "    'Bal?kesir': 'Balıkesir',\n",
    "    'Eski?ehir': 'Eskişehir',\n",
    "    'K?r?kkale': 'Kırıkkale',\n",
    "    'K?tahya': 'Kütahya',\n",
    "    'K?r?ehir': 'Kırşehir',\n",
    "    '?zmir': 'İzmir',\n",
    "    'Nev?ehir': 'Nevşehir',\n",
    "    'Elaz??': 'Elazığ',\n",
    "    'Bing?l': 'Bingöl',\n",
    "    'Mu?': 'Muş',\n",
    "    'Ayd?n': 'Aydın',\n",
    "    'Ni?de': 'Niğde',\n",
    "    'Kahramanmara?': 'Kahramanmaraş',\n",
    "    'Ad?yaman': 'Adıyaman',\n",
    "    'Diyarbak?r': 'Diyarbakır',\n",
    "    'Mu?la': 'Muğla',\n",
    "    '?anl?urfa': 'Şanlıurfa',\n",
    "    'Tekirda?': 'Tekirdağ',\n",
    "    '??rnak': 'Şırnak',\n",
    "    'U?ak': 'Uşak'\n",
    "}\n",
    "\n",
    "df['province'] = df['province'].str.strip()\n",
    "df['province'] = df['province'].replace(rename_dict)"
   ]
  },
  {
   "cell_type": "code",
   "execution_count": 5,
   "metadata": {},
   "outputs": [
    {
     "data": {
      "text/html": [
       "<div>\n",
       "<style scoped>\n",
       "    .dataframe tbody tr th:only-of-type {\n",
       "        vertical-align: middle;\n",
       "    }\n",
       "\n",
       "    .dataframe tbody tr th {\n",
       "        vertical-align: top;\n",
       "    }\n",
       "\n",
       "    .dataframe thead th {\n",
       "        text-align: right;\n",
       "    }\n",
       "</style>\n",
       "<table border=\"1\" class=\"dataframe\">\n",
       "  <thead>\n",
       "    <tr style=\"text-align: right;\">\n",
       "      <th></th>\n",
       "      <th>st_num</th>\n",
       "      <th>st_name</th>\n",
       "      <th>province</th>\n",
       "      <th>district</th>\n",
       "      <th>latitude</th>\n",
       "      <th>longitude</th>\n",
       "      <th>elevation</th>\n",
       "    </tr>\n",
       "  </thead>\n",
       "  <tbody>\n",
       "    <tr>\n",
       "      <th>0</th>\n",
       "      <td>17015</td>\n",
       "      <td>AK?AKOCA</td>\n",
       "      <td>Düzce</td>\n",
       "      <td>Ak?akoca</td>\n",
       "      <td>41.0895</td>\n",
       "      <td>31.1374</td>\n",
       "      <td>10.0</td>\n",
       "    </tr>\n",
       "    <tr>\n",
       "      <th>1</th>\n",
       "      <td>17020</td>\n",
       "      <td>BARTIN</td>\n",
       "      <td>Bartın</td>\n",
       "      <td>Merkez</td>\n",
       "      <td>41.6248</td>\n",
       "      <td>32.3569</td>\n",
       "      <td>33.0</td>\n",
       "    </tr>\n",
       "    <tr>\n",
       "      <th>2</th>\n",
       "      <td>17024</td>\n",
       "      <td>?NEBOLU</td>\n",
       "      <td>Kastamonu</td>\n",
       "      <td>?nebolu</td>\n",
       "      <td>41.9789</td>\n",
       "      <td>33.7636</td>\n",
       "      <td>64.0</td>\n",
       "    </tr>\n",
       "    <tr>\n",
       "      <th>3</th>\n",
       "      <td>17033</td>\n",
       "      <td>ORDU</td>\n",
       "      <td>Ordu</td>\n",
       "      <td>Merkez</td>\n",
       "      <td>40.9838</td>\n",
       "      <td>37.8858</td>\n",
       "      <td>5.0</td>\n",
       "    </tr>\n",
       "    <tr>\n",
       "      <th>4</th>\n",
       "      <td>17034</td>\n",
       "      <td>G?RESUN</td>\n",
       "      <td>Giresun</td>\n",
       "      <td>Merkez</td>\n",
       "      <td>40.9227</td>\n",
       "      <td>38.3878</td>\n",
       "      <td>38.0</td>\n",
       "    </tr>\n",
       "  </tbody>\n",
       "</table>\n",
       "</div>"
      ],
      "text/plain": [
       "   st_num   st_name   province  district  latitude  longitude  elevation\n",
       "0   17015  AK?AKOCA      Düzce  Ak?akoca   41.0895    31.1374       10.0\n",
       "1   17020    BARTIN     Bartın    Merkez   41.6248    32.3569       33.0\n",
       "2   17024   ?NEBOLU  Kastamonu   ?nebolu   41.9789    33.7636       64.0\n",
       "3   17033      ORDU       Ordu    Merkez   40.9838    37.8858        5.0\n",
       "4   17034   G?RESUN    Giresun    Merkez   40.9227    38.3878       38.0"
      ]
     },
     "execution_count": 5,
     "metadata": {},
     "output_type": "execute_result"
    }
   ],
   "source": [
    "df.head()"
   ]
  },
  {
   "cell_type": "code",
   "execution_count": 6,
   "metadata": {},
   "outputs": [
    {
     "name": "stdout",
     "output_type": "stream",
     "text": [
      "<class 'pandas.core.frame.DataFrame'>\n",
      "RangeIndex: 1298 entries, 0 to 1297\n",
      "Data columns (total 7 columns):\n",
      " #   Column     Non-Null Count  Dtype  \n",
      "---  ------     --------------  -----  \n",
      " 0   st_num     1298 non-null   int64  \n",
      " 1   st_name    1298 non-null   object \n",
      " 2   province   1298 non-null   object \n",
      " 3   district   1255 non-null   object \n",
      " 4   latitude   1298 non-null   float64\n",
      " 5   longitude  1298 non-null   float64\n",
      " 6   elevation  1297 non-null   float64\n",
      "dtypes: float64(3), int64(1), object(3)\n",
      "memory usage: 71.1+ KB\n"
     ]
    }
   ],
   "source": [
    "df.info()"
   ]
  },
  {
   "cell_type": "markdown",
   "metadata": {},
   "source": [
    "Station numbers are unique"
   ]
  },
  {
   "cell_type": "code",
   "execution_count": 7,
   "metadata": {},
   "outputs": [
    {
     "data": {
      "text/plain": [
       "1298"
      ]
     },
     "execution_count": 7,
     "metadata": {},
     "output_type": "execute_result"
    }
   ],
   "source": [
    "df['st_num'].nunique()"
   ]
  },
  {
   "cell_type": "markdown",
   "metadata": {},
   "source": [
    "Checking for unreasonable values"
   ]
  },
  {
   "cell_type": "code",
   "execution_count": 8,
   "metadata": {},
   "outputs": [
    {
     "data": {
      "text/plain": [
       "4"
      ]
     },
     "execution_count": 8,
     "metadata": {},
     "output_type": "execute_result"
    }
   ],
   "source": [
    "cond = df['elevation'] < 0\n",
    "cond.sum()"
   ]
  },
  {
   "cell_type": "code",
   "execution_count": 9,
   "metadata": {},
   "outputs": [
    {
     "data": {
      "text/html": [
       "<div>\n",
       "<style scoped>\n",
       "    .dataframe tbody tr th:only-of-type {\n",
       "        vertical-align: middle;\n",
       "    }\n",
       "\n",
       "    .dataframe tbody tr th {\n",
       "        vertical-align: top;\n",
       "    }\n",
       "\n",
       "    .dataframe thead th {\n",
       "        text-align: right;\n",
       "    }\n",
       "</style>\n",
       "<table border=\"1\" class=\"dataframe\">\n",
       "  <thead>\n",
       "    <tr style=\"text-align: right;\">\n",
       "      <th></th>\n",
       "      <th>st_num</th>\n",
       "      <th>st_name</th>\n",
       "      <th>province</th>\n",
       "      <th>district</th>\n",
       "      <th>latitude</th>\n",
       "      <th>longitude</th>\n",
       "      <th>elevation</th>\n",
       "    </tr>\n",
       "  </thead>\n",
       "  <tbody>\n",
       "    <tr>\n",
       "      <th>867</th>\n",
       "      <td>17394</td>\n",
       "      <td>S?L?FKE/TA?UCU A?IKLARI ?AMANDIRA</td>\n",
       "      <td>Mersin</td>\n",
       "      <td>Silifke</td>\n",
       "      <td>36.0833</td>\n",
       "      <td>33.8333</td>\n",
       "      <td>-180.0</td>\n",
       "    </tr>\n",
       "    <tr>\n",
       "      <th>868</th>\n",
       "      <td>17390</td>\n",
       "      <td>?STANBUL BO?AZI KARADEN?Z ?IKI?I ?AMANDIRA</td>\n",
       "      <td>İstanbul</td>\n",
       "      <td>Beykoz</td>\n",
       "      <td>41.2922</td>\n",
       "      <td>29.1656</td>\n",
       "      <td>-50.0</td>\n",
       "    </tr>\n",
       "    <tr>\n",
       "      <th>869</th>\n",
       "      <td>17393</td>\n",
       "      <td>ANTALYA K?RFEZ? ?AMANDIRA</td>\n",
       "      <td>Antalya</td>\n",
       "      <td>Serik</td>\n",
       "      <td>36.7167</td>\n",
       "      <td>31.0167</td>\n",
       "      <td>-330.0</td>\n",
       "    </tr>\n",
       "    <tr>\n",
       "      <th>872</th>\n",
       "      <td>17392</td>\n",
       "      <td>KUZEY EGE ?ANAKKALE BO?AZI ?IKI?I ?AMANDIRA</td>\n",
       "      <td>Çanakkale</td>\n",
       "      <td>Eceabat</td>\n",
       "      <td>40.0483</td>\n",
       "      <td>26.0356</td>\n",
       "      <td>-70.0</td>\n",
       "    </tr>\n",
       "  </tbody>\n",
       "</table>\n",
       "</div>"
      ],
      "text/plain": [
       "     st_num                                      st_name   province district  \\\n",
       "867   17394            S?L?FKE/TA?UCU A?IKLARI ?AMANDIRA     Mersin  Silifke   \n",
       "868   17390   ?STANBUL BO?AZI KARADEN?Z ?IKI?I ?AMANDIRA   İstanbul   Beykoz   \n",
       "869   17393                    ANTALYA K?RFEZ? ?AMANDIRA    Antalya    Serik   \n",
       "872   17392  KUZEY EGE ?ANAKKALE BO?AZI ?IKI?I ?AMANDIRA  Çanakkale  Eceabat   \n",
       "\n",
       "     latitude  longitude  elevation  \n",
       "867   36.0833    33.8333     -180.0  \n",
       "868   41.2922    29.1656      -50.0  \n",
       "869   36.7167    31.0167     -330.0  \n",
       "872   40.0483    26.0356      -70.0  "
      ]
     },
     "execution_count": 9,
     "metadata": {},
     "output_type": "execute_result"
    }
   ],
   "source": [
    "df.loc[cond]"
   ]
  },
  {
   "cell_type": "code",
   "execution_count": 10,
   "metadata": {},
   "outputs": [
    {
     "data": {
      "image/png": "[encoded data removed]",
      "text/plain": [
       "<Figure size 1368x432 with 1 Axes>"
      ]
     },
     "metadata": {
      "needs_background": "light"
     },
     "output_type": "display_data"
    }
   ],
   "source": [
    "graph_data = df[['st_num', 'province']].groupby('province').count().reset_index().rename(columns={'st_num': 'st_count'})\n",
    "graph_data = graph_data.sort_values(by='st_count', ascending=False)\n",
    "\n",
    "plt.figure(figsize=(19, 6))\n",
    "plt.bar('province', 'st_count', data=graph_data, color='skyblue')\n",
    "plt.xlabel('Province')\n",
    "plt.ylabel('No. of stations')\n",
    "plt.xticks(rotation=90)\n",
    "plt.xlim(-1, 81)\n",
    "plt.title('Number of stations per province')\n",
    "plt.show()"
   ]
  },
  {
   "cell_type": "markdown",
   "metadata": {},
   "source": [
    "## Exploring measured variable datasets"
   ]
  },
  {
   "cell_type": "code",
   "execution_count": 13,
   "metadata": {},
   "outputs": [],
   "source": [
    "def explore_dataset(file_name, var_name='variable'):\n",
    "    '''\n",
    "    1.  Renames the common columns (Turkish to English) and the variable column\n",
    "        to the defined var_name\n",
    "        \n",
    "    2.  Displays data description\n",
    "    \n",
    "    3.  Displays the dataframe information\n",
    "    \n",
    "    4.  Prints the start and end years and the total number of years\n",
    "    \n",
    "    5.  Returns the dataset with renamed columns\n",
    "    '''\n",
    "    \n",
    "    path = file_dict[file_name]\n",
    "    \n",
    "    df = pd.read_csv(path, sep='|')\n",
    "    \n",
    "    rename_dict = {\n",
    "        'Istasyon_No': 'st_num',\n",
    "        'Istasyon_Adi': 'st_name',\n",
    "        'YIL': 'year',\n",
    "        'AY': 'month'\n",
    "    }\n",
    "    \n",
    "    \n",
    "    rename_dict[df.columns[-1]] = var_name\n",
    "    df = df.rename(columns=rename_dict)\n",
    "    \n",
    "    # Showing data description (excluding month 13 data)\n",
    "    cond = df['month'] != 13\n",
    "    display(df.loc[cond].describe())\n",
    "    \n",
    "    # Showing dataframe information\n",
    "    display(df.info())\n",
    "    \n",
    "    print(f\"Start year: {df['year'].min()}\")\n",
    "    print(f\"End year: {df['year'].max()}\")\n",
    "    print(f\"Number of years: {df['year'].nunique()}\")\n",
    "          \n",
    "    return df"
   ]
  },
  {
   "cell_type": "markdown",
   "metadata": {},
   "source": [
    "### Max Temperature\n",
    "* Measurement dates range between 1960 and 2021\n",
    "* Temperatures are in Celsius"
   ]
  },
  {
   "cell_type": "code",
   "execution_count": 15,
   "metadata": {},
   "outputs": [
    {
     "data": {
      "text/html": [
       "<div>\n",
       "<style scoped>\n",
       "    .dataframe tbody tr th:only-of-type {\n",
       "        vertical-align: middle;\n",
       "    }\n",
       "\n",
       "    .dataframe tbody tr th {\n",
       "        vertical-align: top;\n",
       "    }\n",
       "\n",
       "    .dataframe thead th {\n",
       "        text-align: right;\n",
       "    }\n",
       "</style>\n",
       "<table border=\"1\" class=\"dataframe\">\n",
       "  <thead>\n",
       "    <tr style=\"text-align: right;\">\n",
       "      <th></th>\n",
       "      <th>st_num</th>\n",
       "      <th>year</th>\n",
       "      <th>month</th>\n",
       "      <th>max_temp</th>\n",
       "    </tr>\n",
       "  </thead>\n",
       "  <tbody>\n",
       "    <tr>\n",
       "      <th>count</th>\n",
       "      <td>239287.000000</td>\n",
       "      <td>239287.000000</td>\n",
       "      <td>239287.000000</td>\n",
       "      <td>239287.000000</td>\n",
       "    </tr>\n",
       "    <tr>\n",
       "      <th>mean</th>\n",
       "      <td>17602.704581</td>\n",
       "      <td>2000.880984</td>\n",
       "      <td>6.447141</td>\n",
       "      <td>25.629870</td>\n",
       "    </tr>\n",
       "    <tr>\n",
       "      <th>std</th>\n",
       "      <td>1682.857128</td>\n",
       "      <td>18.066758</td>\n",
       "      <td>3.454303</td>\n",
       "      <td>8.927919</td>\n",
       "    </tr>\n",
       "    <tr>\n",
       "      <th>min</th>\n",
       "      <td>1708.000000</td>\n",
       "      <td>1960.000000</td>\n",
       "      <td>1.000000</td>\n",
       "      <td>-15.400000</td>\n",
       "    </tr>\n",
       "    <tr>\n",
       "      <th>25%</th>\n",
       "      <td>17248.000000</td>\n",
       "      <td>1986.000000</td>\n",
       "      <td>3.000000</td>\n",
       "      <td>19.100000</td>\n",
       "    </tr>\n",
       "    <tr>\n",
       "      <th>50%</th>\n",
       "      <td>17726.000000</td>\n",
       "      <td>2007.000000</td>\n",
       "      <td>6.000000</td>\n",
       "      <td>26.300000</td>\n",
       "    </tr>\n",
       "    <tr>\n",
       "      <th>75%</th>\n",
       "      <td>17964.000000</td>\n",
       "      <td>2017.000000</td>\n",
       "      <td>9.000000</td>\n",
       "      <td>32.900000</td>\n",
       "    </tr>\n",
       "    <tr>\n",
       "      <th>max</th>\n",
       "      <td>19991.000000</td>\n",
       "      <td>2021.000000</td>\n",
       "      <td>12.000000</td>\n",
       "      <td>48.800000</td>\n",
       "    </tr>\n",
       "  </tbody>\n",
       "</table>\n",
       "</div>"
      ],
      "text/plain": [
       "              st_num           year          month       max_temp\n",
       "count  239287.000000  239287.000000  239287.000000  239287.000000\n",
       "mean    17602.704581    2000.880984       6.447141      25.629870\n",
       "std      1682.857128      18.066758       3.454303       8.927919\n",
       "min      1708.000000    1960.000000       1.000000     -15.400000\n",
       "25%     17248.000000    1986.000000       3.000000      19.100000\n",
       "50%     17726.000000    2007.000000       6.000000      26.300000\n",
       "75%     17964.000000    2017.000000       9.000000      32.900000\n",
       "max     19991.000000    2021.000000      12.000000      48.800000"
      ]
     },
     "metadata": {},
     "output_type": "display_data"
    },
    {
     "name": "stdout",
     "output_type": "stream",
     "text": [
      "<class 'pandas.core.frame.DataFrame'>\n",
      "RangeIndex: 257861 entries, 0 to 257860\n",
      "Data columns (total 5 columns):\n",
      " #   Column    Non-Null Count   Dtype  \n",
      "---  ------    --------------   -----  \n",
      " 0   st_num    257861 non-null  int64  \n",
      " 1   st_name   257861 non-null  object \n",
      " 2   year      257861 non-null  int64  \n",
      " 3   month     257861 non-null  int64  \n",
      " 4   max_temp  257861 non-null  float64\n",
      "dtypes: float64(1), int64(3), object(1)\n",
      "memory usage: 9.8+ MB\n"
     ]
    },
    {
     "data": {
      "text/plain": [
       "None"
      ]
     },
     "metadata": {},
     "output_type": "display_data"
    },
    {
     "name": "stdout",
     "output_type": "stream",
     "text": [
      "Start year: 1960\n",
      "End year: 2021\n",
      "Number of years: 62\n"
     ]
    }
   ],
   "source": [
    "file_name = 'monthly_max_temperature'\n",
    "df = explore_dataset(file_name, var_name='max_temp')"
   ]
  },
  {
   "cell_type": "markdown",
   "metadata": {},
   "source": [
    "### Minimum Temperature"
   ]
  },
  {
   "cell_type": "code",
   "execution_count": 16,
   "metadata": {},
   "outputs": [
    {
     "data": {
      "text/html": [
       "<div>\n",
       "<style scoped>\n",
       "    .dataframe tbody tr th:only-of-type {\n",
       "        vertical-align: middle;\n",
       "    }\n",
       "\n",
       "    .dataframe tbody tr th {\n",
       "        vertical-align: top;\n",
       "    }\n",
       "\n",
       "    .dataframe thead th {\n",
       "        text-align: right;\n",
       "    }\n",
       "</style>\n",
       "<table border=\"1\" class=\"dataframe\">\n",
       "  <thead>\n",
       "    <tr style=\"text-align: right;\">\n",
       "      <th></th>\n",
       "      <th>st_num</th>\n",
       "      <th>year</th>\n",
       "      <th>month</th>\n",
       "      <th>min_temp</th>\n",
       "    </tr>\n",
       "  </thead>\n",
       "  <tbody>\n",
       "    <tr>\n",
       "      <th>count</th>\n",
       "      <td>238102.000000</td>\n",
       "      <td>238102.000000</td>\n",
       "      <td>238102.000000</td>\n",
       "      <td>238102.000000</td>\n",
       "    </tr>\n",
       "    <tr>\n",
       "      <th>mean</th>\n",
       "      <td>17602.396141</td>\n",
       "      <td>2001.086568</td>\n",
       "      <td>6.446964</td>\n",
       "      <td>1.958630</td>\n",
       "    </tr>\n",
       "    <tr>\n",
       "      <th>std</th>\n",
       "      <td>1688.102131</td>\n",
       "      <td>17.882280</td>\n",
       "      <td>3.454702</td>\n",
       "      <td>9.573058</td>\n",
       "    </tr>\n",
       "    <tr>\n",
       "      <th>min</th>\n",
       "      <td>1708.000000</td>\n",
       "      <td>1960.000000</td>\n",
       "      <td>1.000000</td>\n",
       "      <td>-47.300000</td>\n",
       "    </tr>\n",
       "    <tr>\n",
       "      <th>25%</th>\n",
       "      <td>17248.000000</td>\n",
       "      <td>1987.000000</td>\n",
       "      <td>3.000000</td>\n",
       "      <td>-4.000000</td>\n",
       "    </tr>\n",
       "    <tr>\n",
       "      <th>50%</th>\n",
       "      <td>17726.000000</td>\n",
       "      <td>2007.000000</td>\n",
       "      <td>6.000000</td>\n",
       "      <td>2.100000</td>\n",
       "    </tr>\n",
       "    <tr>\n",
       "      <th>75%</th>\n",
       "      <td>17965.000000</td>\n",
       "      <td>2017.000000</td>\n",
       "      <td>9.000000</td>\n",
       "      <td>9.000000</td>\n",
       "    </tr>\n",
       "    <tr>\n",
       "      <th>max</th>\n",
       "      <td>19991.000000</td>\n",
       "      <td>2021.000000</td>\n",
       "      <td>12.000000</td>\n",
       "      <td>31.900000</td>\n",
       "    </tr>\n",
       "  </tbody>\n",
       "</table>\n",
       "</div>"
      ],
      "text/plain": [
       "              st_num           year          month       min_temp\n",
       "count  238102.000000  238102.000000  238102.000000  238102.000000\n",
       "mean    17602.396141    2001.086568       6.446964       1.958630\n",
       "std      1688.102131      17.882280       3.454702       9.573058\n",
       "min      1708.000000    1960.000000       1.000000     -47.300000\n",
       "25%     17248.000000    1987.000000       3.000000      -4.000000\n",
       "50%     17726.000000    2007.000000       6.000000       2.100000\n",
       "75%     17965.000000    2017.000000       9.000000       9.000000\n",
       "max     19991.000000    2021.000000      12.000000      31.900000"
      ]
     },
     "metadata": {},
     "output_type": "display_data"
    },
    {
     "name": "stdout",
     "output_type": "stream",
     "text": [
      "<class 'pandas.core.frame.DataFrame'>\n",
      "RangeIndex: 256644 entries, 0 to 256643\n",
      "Data columns (total 5 columns):\n",
      " #   Column    Non-Null Count   Dtype  \n",
      "---  ------    --------------   -----  \n",
      " 0   st_num    256644 non-null  int64  \n",
      " 1   st_name   256644 non-null  object \n",
      " 2   year      256644 non-null  int64  \n",
      " 3   month     256644 non-null  int64  \n",
      " 4   min_temp  256644 non-null  float64\n",
      "dtypes: float64(1), int64(3), object(1)\n",
      "memory usage: 9.8+ MB\n"
     ]
    },
    {
     "data": {
      "text/plain": [
       "None"
      ]
     },
     "metadata": {},
     "output_type": "display_data"
    },
    {
     "name": "stdout",
     "output_type": "stream",
     "text": [
      "Start year: 1960\n",
      "End year: 2021\n",
      "Number of years: 62\n"
     ]
    }
   ],
   "source": [
    "file_name = 'monthly_min_temperature'\n",
    "df = explore_dataset(file_name, var_name='min_temp')"
   ]
  },
  {
   "cell_type": "markdown",
   "metadata": {},
   "source": [
    "### Average Temperature"
   ]
  },
  {
   "cell_type": "code",
   "execution_count": 17,
   "metadata": {},
   "outputs": [
    {
     "data": {
      "text/html": [
       "<div>\n",
       "<style scoped>\n",
       "    .dataframe tbody tr th:only-of-type {\n",
       "        vertical-align: middle;\n",
       "    }\n",
       "\n",
       "    .dataframe tbody tr th {\n",
       "        vertical-align: top;\n",
       "    }\n",
       "\n",
       "    .dataframe thead th {\n",
       "        text-align: right;\n",
       "    }\n",
       "</style>\n",
       "<table border=\"1\" class=\"dataframe\">\n",
       "  <thead>\n",
       "    <tr style=\"text-align: right;\">\n",
       "      <th></th>\n",
       "      <th>st_num</th>\n",
       "      <th>year</th>\n",
       "      <th>month</th>\n",
       "      <th>avg_temp</th>\n",
       "    </tr>\n",
       "  </thead>\n",
       "  <tbody>\n",
       "    <tr>\n",
       "      <th>count</th>\n",
       "      <td>247062.000000</td>\n",
       "      <td>247062.000000</td>\n",
       "      <td>247062.000000</td>\n",
       "      <td>247062.000000</td>\n",
       "    </tr>\n",
       "    <tr>\n",
       "      <th>mean</th>\n",
       "      <td>17588.717613</td>\n",
       "      <td>2000.894269</td>\n",
       "      <td>6.446977</td>\n",
       "      <td>13.295580</td>\n",
       "    </tr>\n",
       "    <tr>\n",
       "      <th>std</th>\n",
       "      <td>1667.479321</td>\n",
       "      <td>17.923482</td>\n",
       "      <td>3.455050</td>\n",
       "      <td>8.681344</td>\n",
       "    </tr>\n",
       "    <tr>\n",
       "      <th>min</th>\n",
       "      <td>1708.000000</td>\n",
       "      <td>1960.000000</td>\n",
       "      <td>1.000000</td>\n",
       "      <td>-24.400000</td>\n",
       "    </tr>\n",
       "    <tr>\n",
       "      <th>25%</th>\n",
       "      <td>17240.000000</td>\n",
       "      <td>1987.000000</td>\n",
       "      <td>3.000000</td>\n",
       "      <td>6.800000</td>\n",
       "    </tr>\n",
       "    <tr>\n",
       "      <th>50%</th>\n",
       "      <td>17707.000000</td>\n",
       "      <td>2007.000000</td>\n",
       "      <td>6.000000</td>\n",
       "      <td>13.400000</td>\n",
       "    </tr>\n",
       "    <tr>\n",
       "      <th>75%</th>\n",
       "      <td>17958.000000</td>\n",
       "      <td>2017.000000</td>\n",
       "      <td>9.000000</td>\n",
       "      <td>20.300000</td>\n",
       "    </tr>\n",
       "    <tr>\n",
       "      <th>max</th>\n",
       "      <td>19991.000000</td>\n",
       "      <td>2021.000000</td>\n",
       "      <td>12.000000</td>\n",
       "      <td>39.500000</td>\n",
       "    </tr>\n",
       "  </tbody>\n",
       "</table>\n",
       "</div>"
      ],
      "text/plain": [
       "              st_num           year          month       avg_temp\n",
       "count  247062.000000  247062.000000  247062.000000  247062.000000\n",
       "mean    17588.717613    2000.894269       6.446977      13.295580\n",
       "std      1667.479321      17.923482       3.455050       8.681344\n",
       "min      1708.000000    1960.000000       1.000000     -24.400000\n",
       "25%     17240.000000    1987.000000       3.000000       6.800000\n",
       "50%     17707.000000    2007.000000       6.000000      13.400000\n",
       "75%     17958.000000    2017.000000       9.000000      20.300000\n",
       "max     19991.000000    2021.000000      12.000000      39.500000"
      ]
     },
     "metadata": {},
     "output_type": "display_data"
    },
    {
     "name": "stdout",
     "output_type": "stream",
     "text": [
      "<class 'pandas.core.frame.DataFrame'>\n",
      "RangeIndex: 265632 entries, 0 to 265631\n",
      "Data columns (total 5 columns):\n",
      " #   Column    Non-Null Count   Dtype  \n",
      "---  ------    --------------   -----  \n",
      " 0   st_num    265632 non-null  int64  \n",
      " 1   st_name   265632 non-null  object \n",
      " 2   year      265632 non-null  int64  \n",
      " 3   month     265632 non-null  int64  \n",
      " 4   avg_temp  265632 non-null  float64\n",
      "dtypes: float64(1), int64(3), object(1)\n",
      "memory usage: 10.1+ MB\n"
     ]
    },
    {
     "data": {
      "text/plain": [
       "None"
      ]
     },
     "metadata": {},
     "output_type": "display_data"
    },
    {
     "name": "stdout",
     "output_type": "stream",
     "text": [
      "Start year: 1960\n",
      "End year: 2021\n",
      "Number of years: 62\n"
     ]
    }
   ],
   "source": [
    "file_name = 'monthly_avg_temperature'\n",
    "df = explore_dataset(file_name, var_name='avg_temp')"
   ]
  },
  {
   "cell_type": "markdown",
   "metadata": {},
   "source": [
    "### Average Wind Speed\n",
    "* Wind speed in $m/s$"
   ]
  },
  {
   "cell_type": "code",
   "execution_count": 18,
   "metadata": {},
   "outputs": [
    {
     "data": {
      "text/html": [
       "<div>\n",
       "<style scoped>\n",
       "    .dataframe tbody tr th:only-of-type {\n",
       "        vertical-align: middle;\n",
       "    }\n",
       "\n",
       "    .dataframe tbody tr th {\n",
       "        vertical-align: top;\n",
       "    }\n",
       "\n",
       "    .dataframe thead th {\n",
       "        text-align: right;\n",
       "    }\n",
       "</style>\n",
       "<table border=\"1\" class=\"dataframe\">\n",
       "  <thead>\n",
       "    <tr style=\"text-align: right;\">\n",
       "      <th></th>\n",
       "      <th>st_num</th>\n",
       "      <th>year</th>\n",
       "      <th>month</th>\n",
       "      <th>avg_ws</th>\n",
       "    </tr>\n",
       "  </thead>\n",
       "  <tbody>\n",
       "    <tr>\n",
       "      <th>count</th>\n",
       "      <td>227355.000000</td>\n",
       "      <td>227355.000000</td>\n",
       "      <td>227355.000000</td>\n",
       "      <td>227355.000000</td>\n",
       "    </tr>\n",
       "    <tr>\n",
       "      <th>mean</th>\n",
       "      <td>17477.899118</td>\n",
       "      <td>1999.438024</td>\n",
       "      <td>6.457135</td>\n",
       "      <td>2.283435</td>\n",
       "    </tr>\n",
       "    <tr>\n",
       "      <th>std</th>\n",
       "      <td>1687.972469</td>\n",
       "      <td>17.894790</td>\n",
       "      <td>3.453516</td>\n",
       "      <td>1.230033</td>\n",
       "    </tr>\n",
       "    <tr>\n",
       "      <th>min</th>\n",
       "      <td>1708.000000</td>\n",
       "      <td>1960.000000</td>\n",
       "      <td>1.000000</td>\n",
       "      <td>0.000000</td>\n",
       "    </tr>\n",
       "    <tr>\n",
       "      <th>25%</th>\n",
       "      <td>17221.000000</td>\n",
       "      <td>1985.000000</td>\n",
       "      <td>3.000000</td>\n",
       "      <td>1.500000</td>\n",
       "    </tr>\n",
       "    <tr>\n",
       "      <th>50%</th>\n",
       "      <td>17676.000000</td>\n",
       "      <td>2005.000000</td>\n",
       "      <td>6.000000</td>\n",
       "      <td>2.100000</td>\n",
       "    </tr>\n",
       "    <tr>\n",
       "      <th>75%</th>\n",
       "      <td>17891.000000</td>\n",
       "      <td>2015.000000</td>\n",
       "      <td>9.000000</td>\n",
       "      <td>2.900000</td>\n",
       "    </tr>\n",
       "    <tr>\n",
       "      <th>max</th>\n",
       "      <td>19991.000000</td>\n",
       "      <td>2021.000000</td>\n",
       "      <td>12.000000</td>\n",
       "      <td>30.200000</td>\n",
       "    </tr>\n",
       "  </tbody>\n",
       "</table>\n",
       "</div>"
      ],
      "text/plain": [
       "              st_num           year          month         avg_ws\n",
       "count  227355.000000  227355.000000  227355.000000  227355.000000\n",
       "mean    17477.899118    1999.438024       6.457135       2.283435\n",
       "std      1687.972469      17.894790       3.453516       1.230033\n",
       "min      1708.000000    1960.000000       1.000000       0.000000\n",
       "25%     17221.000000    1985.000000       3.000000       1.500000\n",
       "50%     17676.000000    2005.000000       6.000000       2.100000\n",
       "75%     17891.000000    2015.000000       9.000000       2.900000\n",
       "max     19991.000000    2021.000000      12.000000      30.200000"
      ]
     },
     "metadata": {},
     "output_type": "display_data"
    },
    {
     "name": "stdout",
     "output_type": "stream",
     "text": [
      "<class 'pandas.core.frame.DataFrame'>\n",
      "RangeIndex: 227355 entries, 0 to 227354\n",
      "Data columns (total 5 columns):\n",
      " #   Column   Non-Null Count   Dtype  \n",
      "---  ------   --------------   -----  \n",
      " 0   st_num   227355 non-null  int64  \n",
      " 1   st_name  227355 non-null  object \n",
      " 2   year     227355 non-null  int64  \n",
      " 3   month    227355 non-null  int64  \n",
      " 4   avg_ws   227355 non-null  float64\n",
      "dtypes: float64(1), int64(3), object(1)\n",
      "memory usage: 8.7+ MB\n"
     ]
    },
    {
     "data": {
      "text/plain": [
       "None"
      ]
     },
     "metadata": {},
     "output_type": "display_data"
    },
    {
     "name": "stdout",
     "output_type": "stream",
     "text": [
      "Start year: 1960\n",
      "End year: 2021\n",
      "Number of years: 62\n"
     ]
    }
   ],
   "source": [
    "file_name = 'monthly_avg_wind_speed'\n",
    "df = explore_dataset(file_name, var_name='avg_ws')"
   ]
  },
  {
   "cell_type": "markdown",
   "metadata": {},
   "source": [
    "### Maximum Relative Humidity"
   ]
  },
  {
   "cell_type": "code",
   "execution_count": 19,
   "metadata": {},
   "outputs": [
    {
     "data": {
      "text/html": [
       "<div>\n",
       "<style scoped>\n",
       "    .dataframe tbody tr th:only-of-type {\n",
       "        vertical-align: middle;\n",
       "    }\n",
       "\n",
       "    .dataframe tbody tr th {\n",
       "        vertical-align: top;\n",
       "    }\n",
       "\n",
       "    .dataframe thead th {\n",
       "        text-align: right;\n",
       "    }\n",
       "</style>\n",
       "<table border=\"1\" class=\"dataframe\">\n",
       "  <thead>\n",
       "    <tr style=\"text-align: right;\">\n",
       "      <th></th>\n",
       "      <th>st_num</th>\n",
       "      <th>year</th>\n",
       "      <th>month</th>\n",
       "      <th>max_hum</th>\n",
       "    </tr>\n",
       "  </thead>\n",
       "  <tbody>\n",
       "    <tr>\n",
       "      <th>count</th>\n",
       "      <td>237802.000000</td>\n",
       "      <td>237802.000000</td>\n",
       "      <td>237802.000000</td>\n",
       "      <td>237802.000000</td>\n",
       "    </tr>\n",
       "    <tr>\n",
       "      <th>mean</th>\n",
       "      <td>17603.420703</td>\n",
       "      <td>2001.279312</td>\n",
       "      <td>6.450724</td>\n",
       "      <td>94.953953</td>\n",
       "    </tr>\n",
       "    <tr>\n",
       "      <th>std</th>\n",
       "      <td>1673.047445</td>\n",
       "      <td>17.889814</td>\n",
       "      <td>3.454584</td>\n",
       "      <td>7.344692</td>\n",
       "    </tr>\n",
       "    <tr>\n",
       "      <th>min</th>\n",
       "      <td>1708.000000</td>\n",
       "      <td>1960.000000</td>\n",
       "      <td>1.000000</td>\n",
       "      <td>0.000000</td>\n",
       "    </tr>\n",
       "    <tr>\n",
       "      <th>25%</th>\n",
       "      <td>17246.000000</td>\n",
       "      <td>1987.000000</td>\n",
       "      <td>3.000000</td>\n",
       "      <td>94.000000</td>\n",
       "    </tr>\n",
       "    <tr>\n",
       "      <th>50%</th>\n",
       "      <td>17726.000000</td>\n",
       "      <td>2008.000000</td>\n",
       "      <td>6.000000</td>\n",
       "      <td>97.000000</td>\n",
       "    </tr>\n",
       "    <tr>\n",
       "      <th>75%</th>\n",
       "      <td>17970.000000</td>\n",
       "      <td>2017.000000</td>\n",
       "      <td>9.000000</td>\n",
       "      <td>99.000000</td>\n",
       "    </tr>\n",
       "    <tr>\n",
       "      <th>max</th>\n",
       "      <td>19991.000000</td>\n",
       "      <td>2021.000000</td>\n",
       "      <td>12.000000</td>\n",
       "      <td>110.000000</td>\n",
       "    </tr>\n",
       "  </tbody>\n",
       "</table>\n",
       "</div>"
      ],
      "text/plain": [
       "              st_num           year          month        max_hum\n",
       "count  237802.000000  237802.000000  237802.000000  237802.000000\n",
       "mean    17603.420703    2001.279312       6.450724      94.953953\n",
       "std      1673.047445      17.889814       3.454584       7.344692\n",
       "min      1708.000000    1960.000000       1.000000       0.000000\n",
       "25%     17246.000000    1987.000000       3.000000      94.000000\n",
       "50%     17726.000000    2008.000000       6.000000      97.000000\n",
       "75%     17970.000000    2017.000000       9.000000      99.000000\n",
       "max     19991.000000    2021.000000      12.000000     110.000000"
      ]
     },
     "metadata": {},
     "output_type": "display_data"
    },
    {
     "name": "stdout",
     "output_type": "stream",
     "text": [
      "<class 'pandas.core.frame.DataFrame'>\n",
      "RangeIndex: 256178 entries, 0 to 256177\n",
      "Data columns (total 5 columns):\n",
      " #   Column   Non-Null Count   Dtype  \n",
      "---  ------   --------------   -----  \n",
      " 0   st_num   256178 non-null  int64  \n",
      " 1   st_name  256178 non-null  object \n",
      " 2   year     256178 non-null  int64  \n",
      " 3   month    256178 non-null  int64  \n",
      " 4   max_hum  256178 non-null  float64\n",
      "dtypes: float64(1), int64(3), object(1)\n",
      "memory usage: 9.8+ MB\n"
     ]
    },
    {
     "data": {
      "text/plain": [
       "None"
      ]
     },
     "metadata": {},
     "output_type": "display_data"
    },
    {
     "name": "stdout",
     "output_type": "stream",
     "text": [
      "Start year: 1960\n",
      "End year: 2021\n",
      "Number of years: 62\n"
     ]
    }
   ],
   "source": [
    "file_name = 'monthly_max_relative_humidity'\n",
    "df = explore_dataset(file_name, var_name='max_hum')"
   ]
  },
  {
   "cell_type": "markdown",
   "metadata": {},
   "source": [
    "### Minimum Humidity"
   ]
  },
  {
   "cell_type": "code",
   "execution_count": 20,
   "metadata": {},
   "outputs": [
    {
     "data": {
      "text/html": [
       "<div>\n",
       "<style scoped>\n",
       "    .dataframe tbody tr th:only-of-type {\n",
       "        vertical-align: middle;\n",
       "    }\n",
       "\n",
       "    .dataframe tbody tr th {\n",
       "        vertical-align: top;\n",
       "    }\n",
       "\n",
       "    .dataframe thead th {\n",
       "        text-align: right;\n",
       "    }\n",
       "</style>\n",
       "<table border=\"1\" class=\"dataframe\">\n",
       "  <thead>\n",
       "    <tr style=\"text-align: right;\">\n",
       "      <th></th>\n",
       "      <th>st_num</th>\n",
       "      <th>year</th>\n",
       "      <th>month</th>\n",
       "      <th>min_hum</th>\n",
       "    </tr>\n",
       "  </thead>\n",
       "  <tbody>\n",
       "    <tr>\n",
       "      <th>count</th>\n",
       "      <td>237802.000000</td>\n",
       "      <td>237802.000000</td>\n",
       "      <td>237802.000000</td>\n",
       "      <td>237802.000000</td>\n",
       "    </tr>\n",
       "    <tr>\n",
       "      <th>mean</th>\n",
       "      <td>17603.420703</td>\n",
       "      <td>2001.279312</td>\n",
       "      <td>6.450724</td>\n",
       "      <td>22.675713</td>\n",
       "    </tr>\n",
       "    <tr>\n",
       "      <th>std</th>\n",
       "      <td>1673.047445</td>\n",
       "      <td>17.889814</td>\n",
       "      <td>3.454584</td>\n",
       "      <td>12.821413</td>\n",
       "    </tr>\n",
       "    <tr>\n",
       "      <th>min</th>\n",
       "      <td>1708.000000</td>\n",
       "      <td>1960.000000</td>\n",
       "      <td>1.000000</td>\n",
       "      <td>0.000000</td>\n",
       "    </tr>\n",
       "    <tr>\n",
       "      <th>25%</th>\n",
       "      <td>17246.000000</td>\n",
       "      <td>1987.000000</td>\n",
       "      <td>3.000000</td>\n",
       "      <td>13.000000</td>\n",
       "    </tr>\n",
       "    <tr>\n",
       "      <th>50%</th>\n",
       "      <td>17726.000000</td>\n",
       "      <td>2008.000000</td>\n",
       "      <td>6.000000</td>\n",
       "      <td>21.000000</td>\n",
       "    </tr>\n",
       "    <tr>\n",
       "      <th>75%</th>\n",
       "      <td>17970.000000</td>\n",
       "      <td>2017.000000</td>\n",
       "      <td>9.000000</td>\n",
       "      <td>30.000000</td>\n",
       "    </tr>\n",
       "    <tr>\n",
       "      <th>max</th>\n",
       "      <td>19991.000000</td>\n",
       "      <td>2021.000000</td>\n",
       "      <td>12.000000</td>\n",
       "      <td>100.000000</td>\n",
       "    </tr>\n",
       "  </tbody>\n",
       "</table>\n",
       "</div>"
      ],
      "text/plain": [
       "              st_num           year          month        min_hum\n",
       "count  237802.000000  237802.000000  237802.000000  237802.000000\n",
       "mean    17603.420703    2001.279312       6.450724      22.675713\n",
       "std      1673.047445      17.889814       3.454584      12.821413\n",
       "min      1708.000000    1960.000000       1.000000       0.000000\n",
       "25%     17246.000000    1987.000000       3.000000      13.000000\n",
       "50%     17726.000000    2008.000000       6.000000      21.000000\n",
       "75%     17970.000000    2017.000000       9.000000      30.000000\n",
       "max     19991.000000    2021.000000      12.000000     100.000000"
      ]
     },
     "metadata": {},
     "output_type": "display_data"
    },
    {
     "name": "stdout",
     "output_type": "stream",
     "text": [
      "<class 'pandas.core.frame.DataFrame'>\n",
      "RangeIndex: 256178 entries, 0 to 256177\n",
      "Data columns (total 5 columns):\n",
      " #   Column   Non-Null Count   Dtype  \n",
      "---  ------   --------------   -----  \n",
      " 0   st_num   256178 non-null  int64  \n",
      " 1   st_name  256178 non-null  object \n",
      " 2   year     256178 non-null  int64  \n",
      " 3   month    256178 non-null  int64  \n",
      " 4   min_hum  256178 non-null  float64\n",
      "dtypes: float64(1), int64(3), object(1)\n",
      "memory usage: 9.8+ MB\n"
     ]
    },
    {
     "data": {
      "text/plain": [
       "None"
      ]
     },
     "metadata": {},
     "output_type": "display_data"
    },
    {
     "name": "stdout",
     "output_type": "stream",
     "text": [
      "Start year: 1960\n",
      "End year: 2021\n",
      "Number of years: 62\n"
     ]
    }
   ],
   "source": [
    "file_name = 'monthly_min_relative_humidity'\n",
    "df = explore_dataset(file_name, var_name='min_hum')"
   ]
  },
  {
   "cell_type": "markdown",
   "metadata": {},
   "source": [
    "### Average Humidity"
   ]
  },
  {
   "cell_type": "code",
   "execution_count": 21,
   "metadata": {},
   "outputs": [
    {
     "data": {
      "text/html": [
       "<div>\n",
       "<style scoped>\n",
       "    .dataframe tbody tr th:only-of-type {\n",
       "        vertical-align: middle;\n",
       "    }\n",
       "\n",
       "    .dataframe tbody tr th {\n",
       "        vertical-align: top;\n",
       "    }\n",
       "\n",
       "    .dataframe thead th {\n",
       "        text-align: right;\n",
       "    }\n",
       "</style>\n",
       "<table border=\"1\" class=\"dataframe\">\n",
       "  <thead>\n",
       "    <tr style=\"text-align: right;\">\n",
       "      <th></th>\n",
       "      <th>st_num</th>\n",
       "      <th>year</th>\n",
       "      <th>month</th>\n",
       "      <th>avg_hum</th>\n",
       "    </tr>\n",
       "  </thead>\n",
       "  <tbody>\n",
       "    <tr>\n",
       "      <th>count</th>\n",
       "      <td>236806.000000</td>\n",
       "      <td>236806.000000</td>\n",
       "      <td>236806.000000</td>\n",
       "      <td>236806.000000</td>\n",
       "    </tr>\n",
       "    <tr>\n",
       "      <th>mean</th>\n",
       "      <td>17598.984836</td>\n",
       "      <td>2001.167107</td>\n",
       "      <td>6.449220</td>\n",
       "      <td>65.096828</td>\n",
       "    </tr>\n",
       "    <tr>\n",
       "      <th>std</th>\n",
       "      <td>1695.619219</td>\n",
       "      <td>17.908304</td>\n",
       "      <td>3.456085</td>\n",
       "      <td>13.756654</td>\n",
       "    </tr>\n",
       "    <tr>\n",
       "      <th>min</th>\n",
       "      <td>1708.000000</td>\n",
       "      <td>1960.000000</td>\n",
       "      <td>1.000000</td>\n",
       "      <td>0.000000</td>\n",
       "    </tr>\n",
       "    <tr>\n",
       "      <th>25%</th>\n",
       "      <td>17244.000000</td>\n",
       "      <td>1987.000000</td>\n",
       "      <td>3.000000</td>\n",
       "      <td>56.600000</td>\n",
       "    </tr>\n",
       "    <tr>\n",
       "      <th>50%</th>\n",
       "      <td>17726.000000</td>\n",
       "      <td>2008.000000</td>\n",
       "      <td>6.000000</td>\n",
       "      <td>66.600000</td>\n",
       "    </tr>\n",
       "    <tr>\n",
       "      <th>75%</th>\n",
       "      <td>17970.000000</td>\n",
       "      <td>2017.000000</td>\n",
       "      <td>9.000000</td>\n",
       "      <td>75.000000</td>\n",
       "    </tr>\n",
       "    <tr>\n",
       "      <th>max</th>\n",
       "      <td>19991.000000</td>\n",
       "      <td>2021.000000</td>\n",
       "      <td>12.000000</td>\n",
       "      <td>100.000000</td>\n",
       "    </tr>\n",
       "  </tbody>\n",
       "</table>\n",
       "</div>"
      ],
      "text/plain": [
       "              st_num           year          month        avg_hum\n",
       "count  236806.000000  236806.000000  236806.000000  236806.000000\n",
       "mean    17598.984836    2001.167107       6.449220      65.096828\n",
       "std      1695.619219      17.908304       3.456085      13.756654\n",
       "min      1708.000000    1960.000000       1.000000       0.000000\n",
       "25%     17244.000000    1987.000000       3.000000      56.600000\n",
       "50%     17726.000000    2008.000000       6.000000      66.600000\n",
       "75%     17970.000000    2017.000000       9.000000      75.000000\n",
       "max     19991.000000    2021.000000      12.000000     100.000000"
      ]
     },
     "metadata": {},
     "output_type": "display_data"
    },
    {
     "name": "stdout",
     "output_type": "stream",
     "text": [
      "<class 'pandas.core.frame.DataFrame'>\n",
      "RangeIndex: 255122 entries, 0 to 255121\n",
      "Data columns (total 5 columns):\n",
      " #   Column   Non-Null Count   Dtype  \n",
      "---  ------   --------------   -----  \n",
      " 0   st_num   255122 non-null  int64  \n",
      " 1   st_name  255122 non-null  object \n",
      " 2   year     255122 non-null  int64  \n",
      " 3   month    255122 non-null  int64  \n",
      " 4   avg_hum  255122 non-null  float64\n",
      "dtypes: float64(1), int64(3), object(1)\n",
      "memory usage: 9.7+ MB\n"
     ]
    },
    {
     "data": {
      "text/plain": [
       "None"
      ]
     },
     "metadata": {},
     "output_type": "display_data"
    },
    {
     "name": "stdout",
     "output_type": "stream",
     "text": [
      "Start year: 1960\n",
      "End year: 2021\n",
      "Number of years: 62\n"
     ]
    }
   ],
   "source": [
    "file_name = 'monthly_avg_relative_humidity'\n",
    "df = explore_dataset(file_name, var_name='avg_hum')"
   ]
  },
  {
   "cell_type": "markdown",
   "metadata": {},
   "source": [
    "### Global solar radiation monthly total\n",
    "* Values in $kWh/m^2$\n",
    "* Dataset contains only 15772 values\n",
    "* Measurements start from 2005"
   ]
  },
  {
   "cell_type": "code",
   "execution_count": 22,
   "metadata": {},
   "outputs": [
    {
     "data": {
      "text/html": [
       "<div>\n",
       "<style scoped>\n",
       "    .dataframe tbody tr th:only-of-type {\n",
       "        vertical-align: middle;\n",
       "    }\n",
       "\n",
       "    .dataframe tbody tr th {\n",
       "        vertical-align: top;\n",
       "    }\n",
       "\n",
       "    .dataframe thead th {\n",
       "        text-align: right;\n",
       "    }\n",
       "</style>\n",
       "<table border=\"1\" class=\"dataframe\">\n",
       "  <thead>\n",
       "    <tr style=\"text-align: right;\">\n",
       "      <th></th>\n",
       "      <th>st_num</th>\n",
       "      <th>year</th>\n",
       "      <th>month</th>\n",
       "      <th>tot_rad</th>\n",
       "    </tr>\n",
       "  </thead>\n",
       "  <tbody>\n",
       "    <tr>\n",
       "      <th>count</th>\n",
       "      <td>15772.000000</td>\n",
       "      <td>15772.000000</td>\n",
       "      <td>15772.000000</td>\n",
       "      <td>15772.000000</td>\n",
       "    </tr>\n",
       "    <tr>\n",
       "      <th>mean</th>\n",
       "      <td>17814.591872</td>\n",
       "      <td>2015.454603</td>\n",
       "      <td>6.591555</td>\n",
       "      <td>102.996906</td>\n",
       "    </tr>\n",
       "    <tr>\n",
       "      <th>std</th>\n",
       "      <td>661.887649</td>\n",
       "      <td>3.744592</td>\n",
       "      <td>3.430985</td>\n",
       "      <td>81.179359</td>\n",
       "    </tr>\n",
       "    <tr>\n",
       "      <th>min</th>\n",
       "      <td>17015.000000</td>\n",
       "      <td>2005.000000</td>\n",
       "      <td>1.000000</td>\n",
       "      <td>0.000000</td>\n",
       "    </tr>\n",
       "    <tr>\n",
       "      <th>25%</th>\n",
       "      <td>17234.000000</td>\n",
       "      <td>2013.000000</td>\n",
       "      <td>4.000000</td>\n",
       "      <td>41.100000</td>\n",
       "    </tr>\n",
       "    <tr>\n",
       "      <th>50%</th>\n",
       "      <td>17749.000000</td>\n",
       "      <td>2015.000000</td>\n",
       "      <td>7.000000</td>\n",
       "      <td>95.100000</td>\n",
       "    </tr>\n",
       "    <tr>\n",
       "      <th>75%</th>\n",
       "      <td>18222.000000</td>\n",
       "      <td>2019.000000</td>\n",
       "      <td>10.000000</td>\n",
       "      <td>166.825000</td>\n",
       "    </tr>\n",
       "    <tr>\n",
       "      <th>max</th>\n",
       "      <td>19991.000000</td>\n",
       "      <td>2021.000000</td>\n",
       "      <td>12.000000</td>\n",
       "      <td>731.600000</td>\n",
       "    </tr>\n",
       "  </tbody>\n",
       "</table>\n",
       "</div>"
      ],
      "text/plain": [
       "             st_num          year         month       tot_rad\n",
       "count  15772.000000  15772.000000  15772.000000  15772.000000\n",
       "mean   17814.591872   2015.454603      6.591555    102.996906\n",
       "std      661.887649      3.744592      3.430985     81.179359\n",
       "min    17015.000000   2005.000000      1.000000      0.000000\n",
       "25%    17234.000000   2013.000000      4.000000     41.100000\n",
       "50%    17749.000000   2015.000000      7.000000     95.100000\n",
       "75%    18222.000000   2019.000000     10.000000    166.825000\n",
       "max    19991.000000   2021.000000     12.000000    731.600000"
      ]
     },
     "metadata": {},
     "output_type": "display_data"
    },
    {
     "name": "stdout",
     "output_type": "stream",
     "text": [
      "<class 'pandas.core.frame.DataFrame'>\n",
      "RangeIndex: 15772 entries, 0 to 15771\n",
      "Data columns (total 5 columns):\n",
      " #   Column   Non-Null Count  Dtype  \n",
      "---  ------   --------------  -----  \n",
      " 0   st_num   15772 non-null  int64  \n",
      " 1   st_name  15772 non-null  object \n",
      " 2   year     15772 non-null  int64  \n",
      " 3   month    15772 non-null  int64  \n",
      " 4   tot_rad  15772 non-null  float64\n",
      "dtypes: float64(1), int64(3), object(1)\n",
      "memory usage: 616.2+ KB\n"
     ]
    },
    {
     "data": {
      "text/plain": [
       "None"
      ]
     },
     "metadata": {},
     "output_type": "display_data"
    },
    {
     "name": "stdout",
     "output_type": "stream",
     "text": [
      "Start year: 2005\n",
      "End year: 2021\n",
      "Number of years: 17\n"
     ]
    }
   ],
   "source": [
    "file_name = 'monthly_total_global_solar_radiation'\n",
    "df = explore_dataset(file_name, var_name='tot_rad')"
   ]
  },
  {
   "cell_type": "markdown",
   "metadata": {},
   "source": [
    "### Global solar radiation monthly maximum\n",
    "* Values in $W/m^2$\n",
    "* Dataset contains only 15667 values\n",
    "* Measurements start from 2005"
   ]
  },
  {
   "cell_type": "code",
   "execution_count": 23,
   "metadata": {},
   "outputs": [
    {
     "data": {
      "text/html": [
       "<div>\n",
       "<style scoped>\n",
       "    .dataframe tbody tr th:only-of-type {\n",
       "        vertical-align: middle;\n",
       "    }\n",
       "\n",
       "    .dataframe tbody tr th {\n",
       "        vertical-align: top;\n",
       "    }\n",
       "\n",
       "    .dataframe thead th {\n",
       "        text-align: right;\n",
       "    }\n",
       "</style>\n",
       "<table border=\"1\" class=\"dataframe\">\n",
       "  <thead>\n",
       "    <tr style=\"text-align: right;\">\n",
       "      <th></th>\n",
       "      <th>st_num</th>\n",
       "      <th>year</th>\n",
       "      <th>month</th>\n",
       "      <th>max_rad</th>\n",
       "    </tr>\n",
       "  </thead>\n",
       "  <tbody>\n",
       "    <tr>\n",
       "      <th>count</th>\n",
       "      <td>15667.000000</td>\n",
       "      <td>15667.000000</td>\n",
       "      <td>15667.000000</td>\n",
       "      <td>1.566700e+04</td>\n",
       "    </tr>\n",
       "    <tr>\n",
       "      <th>mean</th>\n",
       "      <td>17815.094785</td>\n",
       "      <td>2015.437225</td>\n",
       "      <td>6.589264</td>\n",
       "      <td>2.978475e+05</td>\n",
       "    </tr>\n",
       "    <tr>\n",
       "      <th>std</th>\n",
       "      <td>662.714758</td>\n",
       "      <td>3.735554</td>\n",
       "      <td>3.426322</td>\n",
       "      <td>1.956810e+05</td>\n",
       "    </tr>\n",
       "    <tr>\n",
       "      <th>min</th>\n",
       "      <td>17015.000000</td>\n",
       "      <td>2005.000000</td>\n",
       "      <td>1.000000</td>\n",
       "      <td>0.000000e+00</td>\n",
       "    </tr>\n",
       "    <tr>\n",
       "      <th>25%</th>\n",
       "      <td>17234.000000</td>\n",
       "      <td>2013.000000</td>\n",
       "      <td>4.000000</td>\n",
       "      <td>1.707638e+05</td>\n",
       "    </tr>\n",
       "    <tr>\n",
       "      <th>50%</th>\n",
       "      <td>17749.000000</td>\n",
       "      <td>2015.000000</td>\n",
       "      <td>7.000000</td>\n",
       "      <td>3.174000e+05</td>\n",
       "    </tr>\n",
       "    <tr>\n",
       "      <th>75%</th>\n",
       "      <td>18224.000000</td>\n",
       "      <td>2019.000000</td>\n",
       "      <td>10.000000</td>\n",
       "      <td>4.596000e+05</td>\n",
       "    </tr>\n",
       "    <tr>\n",
       "      <th>max</th>\n",
       "      <td>19991.000000</td>\n",
       "      <td>2021.000000</td>\n",
       "      <td>12.000000</td>\n",
       "      <td>1.423002e+06</td>\n",
       "    </tr>\n",
       "  </tbody>\n",
       "</table>\n",
       "</div>"
      ],
      "text/plain": [
       "             st_num          year         month       max_rad\n",
       "count  15667.000000  15667.000000  15667.000000  1.566700e+04\n",
       "mean   17815.094785   2015.437225      6.589264  2.978475e+05\n",
       "std      662.714758      3.735554      3.426322  1.956810e+05\n",
       "min    17015.000000   2005.000000      1.000000  0.000000e+00\n",
       "25%    17234.000000   2013.000000      4.000000  1.707638e+05\n",
       "50%    17749.000000   2015.000000      7.000000  3.174000e+05\n",
       "75%    18224.000000   2019.000000     10.000000  4.596000e+05\n",
       "max    19991.000000   2021.000000     12.000000  1.423002e+06"
      ]
     },
     "metadata": {},
     "output_type": "display_data"
    },
    {
     "name": "stdout",
     "output_type": "stream",
     "text": [
      "<class 'pandas.core.frame.DataFrame'>\n",
      "RangeIndex: 15667 entries, 0 to 15666\n",
      "Data columns (total 5 columns):\n",
      " #   Column   Non-Null Count  Dtype  \n",
      "---  ------   --------------  -----  \n",
      " 0   st_num   15667 non-null  int64  \n",
      " 1   st_name  15667 non-null  object \n",
      " 2   year     15667 non-null  int64  \n",
      " 3   month    15667 non-null  int64  \n",
      " 4   max_rad  15667 non-null  float64\n",
      "dtypes: float64(1), int64(3), object(1)\n",
      "memory usage: 612.1+ KB\n"
     ]
    },
    {
     "data": {
      "text/plain": [
       "None"
      ]
     },
     "metadata": {},
     "output_type": "display_data"
    },
    {
     "name": "stdout",
     "output_type": "stream",
     "text": [
      "Start year: 2005\n",
      "End year: 2021\n",
      "Number of years: 17\n"
     ]
    }
   ],
   "source": [
    "file_name = 'monthly_max_global_solar_radiation'\n",
    "df = explore_dataset(file_name, var_name='max_rad')"
   ]
  },
  {
   "cell_type": "markdown",
   "metadata": {},
   "source": [
    "### Solar radiation monthly average\n",
    "* Values in $cal/cm^2$\n",
    "* Dataset has only 50968 values\n",
    "* Values date back to 1965"
   ]
  },
  {
   "cell_type": "code",
   "execution_count": 24,
   "metadata": {},
   "outputs": [
    {
     "data": {
      "text/plain": [
       "['monthly_avg_relative_humidity',\n",
       " 'monthly_avg_solar_radiation',\n",
       " 'monthly_avg_sun_duration',\n",
       " 'monthly_avg_temperature',\n",
       " 'monthly_avg_wind_speed',\n",
       " 'monthly_max_global_solar_radiation',\n",
       " 'monthly_max_relative_humidity',\n",
       " 'monthly_max_temperature',\n",
       " 'monthly_min_relative_humidity',\n",
       " 'monthly_min_temperature',\n",
       " 'monthly_total_global_solar_radiation',\n",
       " 'monthly_total_sun_duration',\n",
       " 'station_definitions']"
      ]
     },
     "execution_count": 24,
     "metadata": {},
     "output_type": "execute_result"
    }
   ],
   "source": [
    "file_name_list"
   ]
  },
  {
   "cell_type": "code",
   "execution_count": 25,
   "metadata": {},
   "outputs": [
    {
     "data": {
      "text/html": [
       "<div>\n",
       "<style scoped>\n",
       "    .dataframe tbody tr th:only-of-type {\n",
       "        vertical-align: middle;\n",
       "    }\n",
       "\n",
       "    .dataframe tbody tr th {\n",
       "        vertical-align: top;\n",
       "    }\n",
       "\n",
       "    .dataframe thead th {\n",
       "        text-align: right;\n",
       "    }\n",
       "</style>\n",
       "<table border=\"1\" class=\"dataframe\">\n",
       "  <thead>\n",
       "    <tr style=\"text-align: right;\">\n",
       "      <th></th>\n",
       "      <th>st_num</th>\n",
       "      <th>year</th>\n",
       "      <th>month</th>\n",
       "      <th>avg_rad</th>\n",
       "    </tr>\n",
       "  </thead>\n",
       "  <tbody>\n",
       "    <tr>\n",
       "      <th>count</th>\n",
       "      <td>50968.000000</td>\n",
       "      <td>50968.000000</td>\n",
       "      <td>50968.000000</td>\n",
       "      <td>50968.000000</td>\n",
       "    </tr>\n",
       "    <tr>\n",
       "      <th>mean</th>\n",
       "      <td>17445.339488</td>\n",
       "      <td>1996.228202</td>\n",
       "      <td>6.467882</td>\n",
       "      <td>351.885921</td>\n",
       "    </tr>\n",
       "    <tr>\n",
       "      <th>std</th>\n",
       "      <td>383.731764</td>\n",
       "      <td>12.824309</td>\n",
       "      <td>3.453600</td>\n",
       "      <td>159.346949</td>\n",
       "    </tr>\n",
       "    <tr>\n",
       "      <th>min</th>\n",
       "      <td>17015.000000</td>\n",
       "      <td>1965.000000</td>\n",
       "      <td>1.000000</td>\n",
       "      <td>0.000000</td>\n",
       "    </tr>\n",
       "    <tr>\n",
       "      <th>25%</th>\n",
       "      <td>17175.000000</td>\n",
       "      <td>1988.000000</td>\n",
       "      <td>3.000000</td>\n",
       "      <td>209.100000</td>\n",
       "    </tr>\n",
       "    <tr>\n",
       "      <th>50%</th>\n",
       "      <td>17282.000000</td>\n",
       "      <td>1996.000000</td>\n",
       "      <td>6.000000</td>\n",
       "      <td>349.900000</td>\n",
       "    </tr>\n",
       "    <tr>\n",
       "      <th>75%</th>\n",
       "      <td>17740.000000</td>\n",
       "      <td>2004.000000</td>\n",
       "      <td>9.000000</td>\n",
       "      <td>481.925000</td>\n",
       "    </tr>\n",
       "    <tr>\n",
       "      <th>max</th>\n",
       "      <td>19991.000000</td>\n",
       "      <td>2021.000000</td>\n",
       "      <td>12.000000</td>\n",
       "      <td>1918.300000</td>\n",
       "    </tr>\n",
       "  </tbody>\n",
       "</table>\n",
       "</div>"
      ],
      "text/plain": [
       "             st_num          year         month       avg_rad\n",
       "count  50968.000000  50968.000000  50968.000000  50968.000000\n",
       "mean   17445.339488   1996.228202      6.467882    351.885921\n",
       "std      383.731764     12.824309      3.453600    159.346949\n",
       "min    17015.000000   1965.000000      1.000000      0.000000\n",
       "25%    17175.000000   1988.000000      3.000000    209.100000\n",
       "50%    17282.000000   1996.000000      6.000000    349.900000\n",
       "75%    17740.000000   2004.000000      9.000000    481.925000\n",
       "max    19991.000000   2021.000000     12.000000   1918.300000"
      ]
     },
     "metadata": {},
     "output_type": "display_data"
    },
    {
     "name": "stdout",
     "output_type": "stream",
     "text": [
      "<class 'pandas.core.frame.DataFrame'>\n",
      "RangeIndex: 50968 entries, 0 to 50967\n",
      "Data columns (total 5 columns):\n",
      " #   Column   Non-Null Count  Dtype  \n",
      "---  ------   --------------  -----  \n",
      " 0   st_num   50968 non-null  int64  \n",
      " 1   st_name  50968 non-null  object \n",
      " 2   year     50968 non-null  int64  \n",
      " 3   month    50968 non-null  int64  \n",
      " 4   avg_rad  50968 non-null  float64\n",
      "dtypes: float64(1), int64(3), object(1)\n",
      "memory usage: 1.9+ MB\n"
     ]
    },
    {
     "data": {
      "text/plain": [
       "None"
      ]
     },
     "metadata": {},
     "output_type": "display_data"
    },
    {
     "name": "stdout",
     "output_type": "stream",
     "text": [
      "Start year: 1965\n",
      "End year: 2021\n",
      "Number of years: 57\n"
     ]
    }
   ],
   "source": [
    "file_name = 'monthly_avg_solar_radiation'\n",
    "df = explore_dataset(file_name, var_name='avg_rad')"
   ]
  },
  {
   "cell_type": "markdown",
   "metadata": {},
   "source": [
    "### Total Monthly Sunlight Duration\n",
    "* Values in hours"
   ]
  },
  {
   "cell_type": "code",
   "execution_count": 26,
   "metadata": {},
   "outputs": [
    {
     "data": {
      "text/html": [
       "<div>\n",
       "<style scoped>\n",
       "    .dataframe tbody tr th:only-of-type {\n",
       "        vertical-align: middle;\n",
       "    }\n",
       "\n",
       "    .dataframe tbody tr th {\n",
       "        vertical-align: top;\n",
       "    }\n",
       "\n",
       "    .dataframe thead th {\n",
       "        text-align: right;\n",
       "    }\n",
       "</style>\n",
       "<table border=\"1\" class=\"dataframe\">\n",
       "  <thead>\n",
       "    <tr style=\"text-align: right;\">\n",
       "      <th></th>\n",
       "      <th>st_num</th>\n",
       "      <th>year</th>\n",
       "      <th>month</th>\n",
       "      <th>total_sun_duration</th>\n",
       "    </tr>\n",
       "  </thead>\n",
       "  <tbody>\n",
       "    <tr>\n",
       "      <th>count</th>\n",
       "      <td>89673.000000</td>\n",
       "      <td>89673.000000</td>\n",
       "      <td>89673.000000</td>\n",
       "      <td>89673.000000</td>\n",
       "    </tr>\n",
       "    <tr>\n",
       "      <th>mean</th>\n",
       "      <td>17438.810288</td>\n",
       "      <td>1997.140031</td>\n",
       "      <td>6.517581</td>\n",
       "      <td>199.573923</td>\n",
       "    </tr>\n",
       "    <tr>\n",
       "      <th>std</th>\n",
       "      <td>381.441414</td>\n",
       "      <td>15.538776</td>\n",
       "      <td>3.451234</td>\n",
       "      <td>103.048676</td>\n",
       "    </tr>\n",
       "    <tr>\n",
       "      <th>min</th>\n",
       "      <td>17015.000000</td>\n",
       "      <td>1960.000000</td>\n",
       "      <td>1.000000</td>\n",
       "      <td>0.000000</td>\n",
       "    </tr>\n",
       "    <tr>\n",
       "      <th>25%</th>\n",
       "      <td>17150.000000</td>\n",
       "      <td>1987.000000</td>\n",
       "      <td>4.000000</td>\n",
       "      <td>120.800000</td>\n",
       "    </tr>\n",
       "    <tr>\n",
       "      <th>50%</th>\n",
       "      <td>17275.000000</td>\n",
       "      <td>1999.000000</td>\n",
       "      <td>7.000000</td>\n",
       "      <td>194.800000</td>\n",
       "    </tr>\n",
       "    <tr>\n",
       "      <th>75%</th>\n",
       "      <td>17740.000000</td>\n",
       "      <td>2010.000000</td>\n",
       "      <td>10.000000</td>\n",
       "      <td>286.100000</td>\n",
       "    </tr>\n",
       "    <tr>\n",
       "      <th>max</th>\n",
       "      <td>19991.000000</td>\n",
       "      <td>2021.000000</td>\n",
       "      <td>12.000000</td>\n",
       "      <td>667.000000</td>\n",
       "    </tr>\n",
       "  </tbody>\n",
       "</table>\n",
       "</div>"
      ],
      "text/plain": [
       "             st_num          year         month  total_sun_duration\n",
       "count  89673.000000  89673.000000  89673.000000        89673.000000\n",
       "mean   17438.810288   1997.140031      6.517581          199.573923\n",
       "std      381.441414     15.538776      3.451234          103.048676\n",
       "min    17015.000000   1960.000000      1.000000            0.000000\n",
       "25%    17150.000000   1987.000000      4.000000          120.800000\n",
       "50%    17275.000000   1999.000000      7.000000          194.800000\n",
       "75%    17740.000000   2010.000000     10.000000          286.100000\n",
       "max    19991.000000   2021.000000     12.000000          667.000000"
      ]
     },
     "metadata": {},
     "output_type": "display_data"
    },
    {
     "name": "stdout",
     "output_type": "stream",
     "text": [
      "<class 'pandas.core.frame.DataFrame'>\n",
      "RangeIndex: 97564 entries, 0 to 97563\n",
      "Data columns (total 5 columns):\n",
      " #   Column              Non-Null Count  Dtype  \n",
      "---  ------              --------------  -----  \n",
      " 0   st_num              97564 non-null  int64  \n",
      " 1   st_name             97564 non-null  object \n",
      " 2   year                97564 non-null  int64  \n",
      " 3   month               97564 non-null  int64  \n",
      " 4   total_sun_duration  97564 non-null  float64\n",
      "dtypes: float64(1), int64(3), object(1)\n",
      "memory usage: 3.7+ MB\n"
     ]
    },
    {
     "data": {
      "text/plain": [
       "None"
      ]
     },
     "metadata": {},
     "output_type": "display_data"
    },
    {
     "name": "stdout",
     "output_type": "stream",
     "text": [
      "Start year: 1960\n",
      "End year: 2021\n",
      "Number of years: 62\n"
     ]
    }
   ],
   "source": [
    "file_name = 'monthly_total_sun_duration'\n",
    "df = explore_dataset(file_name, var_name='total_sun_duration')"
   ]
  },
  {
   "cell_type": "markdown",
   "metadata": {},
   "source": [
    "### Daily Sunlight Duration Monthly Average\n",
    "* Values in hours\n",
    "* There is a value greater than 24 (31.8)"
   ]
  },
  {
   "cell_type": "code",
   "execution_count": 27,
   "metadata": {},
   "outputs": [
    {
     "data": {
      "text/html": [
       "<div>\n",
       "<style scoped>\n",
       "    .dataframe tbody tr th:only-of-type {\n",
       "        vertical-align: middle;\n",
       "    }\n",
       "\n",
       "    .dataframe tbody tr th {\n",
       "        vertical-align: top;\n",
       "    }\n",
       "\n",
       "    .dataframe thead th {\n",
       "        text-align: right;\n",
       "    }\n",
       "</style>\n",
       "<table border=\"1\" class=\"dataframe\">\n",
       "  <thead>\n",
       "    <tr style=\"text-align: right;\">\n",
       "      <th></th>\n",
       "      <th>st_num</th>\n",
       "      <th>year</th>\n",
       "      <th>month</th>\n",
       "      <th>avg_sun_duration</th>\n",
       "    </tr>\n",
       "  </thead>\n",
       "  <tbody>\n",
       "    <tr>\n",
       "      <th>count</th>\n",
       "      <td>91622.000000</td>\n",
       "      <td>91622.000000</td>\n",
       "      <td>91622.000000</td>\n",
       "      <td>91622.000000</td>\n",
       "    </tr>\n",
       "    <tr>\n",
       "      <th>mean</th>\n",
       "      <td>17443.065639</td>\n",
       "      <td>1997.325337</td>\n",
       "      <td>6.505370</td>\n",
       "      <td>6.458682</td>\n",
       "    </tr>\n",
       "    <tr>\n",
       "      <th>std</th>\n",
       "      <td>380.356395</td>\n",
       "      <td>15.429284</td>\n",
       "      <td>3.450484</td>\n",
       "      <td>3.431863</td>\n",
       "    </tr>\n",
       "    <tr>\n",
       "      <th>min</th>\n",
       "      <td>17015.000000</td>\n",
       "      <td>1960.000000</td>\n",
       "      <td>1.000000</td>\n",
       "      <td>0.000000</td>\n",
       "    </tr>\n",
       "    <tr>\n",
       "      <th>25%</th>\n",
       "      <td>17152.000000</td>\n",
       "      <td>1987.000000</td>\n",
       "      <td>4.000000</td>\n",
       "      <td>3.900000</td>\n",
       "    </tr>\n",
       "    <tr>\n",
       "      <th>50%</th>\n",
       "      <td>17280.000000</td>\n",
       "      <td>2000.000000</td>\n",
       "      <td>7.000000</td>\n",
       "      <td>6.400000</td>\n",
       "    </tr>\n",
       "    <tr>\n",
       "      <th>75%</th>\n",
       "      <td>17742.000000</td>\n",
       "      <td>2010.000000</td>\n",
       "      <td>10.000000</td>\n",
       "      <td>9.400000</td>\n",
       "    </tr>\n",
       "    <tr>\n",
       "      <th>max</th>\n",
       "      <td>19991.000000</td>\n",
       "      <td>2021.000000</td>\n",
       "      <td>12.000000</td>\n",
       "      <td>31.800000</td>\n",
       "    </tr>\n",
       "  </tbody>\n",
       "</table>\n",
       "</div>"
      ],
      "text/plain": [
       "             st_num          year         month  avg_sun_duration\n",
       "count  91622.000000  91622.000000  91622.000000      91622.000000\n",
       "mean   17443.065639   1997.325337      6.505370          6.458682\n",
       "std      380.356395     15.429284      3.450484          3.431863\n",
       "min    17015.000000   1960.000000      1.000000          0.000000\n",
       "25%    17152.000000   1987.000000      4.000000          3.900000\n",
       "50%    17280.000000   2000.000000      7.000000          6.400000\n",
       "75%    17742.000000   2010.000000     10.000000          9.400000\n",
       "max    19991.000000   2021.000000     12.000000         31.800000"
      ]
     },
     "metadata": {},
     "output_type": "display_data"
    },
    {
     "name": "stdout",
     "output_type": "stream",
     "text": [
      "<class 'pandas.core.frame.DataFrame'>\n",
      "RangeIndex: 99650 entries, 0 to 99649\n",
      "Data columns (total 5 columns):\n",
      " #   Column            Non-Null Count  Dtype  \n",
      "---  ------            --------------  -----  \n",
      " 0   st_num            99650 non-null  int64  \n",
      " 1   st_name           99650 non-null  object \n",
      " 2   year              99650 non-null  int64  \n",
      " 3   month             99650 non-null  int64  \n",
      " 4   avg_sun_duration  99650 non-null  float64\n",
      "dtypes: float64(1), int64(3), object(1)\n",
      "memory usage: 3.8+ MB\n"
     ]
    },
    {
     "data": {
      "text/plain": [
       "None"
      ]
     },
     "metadata": {},
     "output_type": "display_data"
    },
    {
     "name": "stdout",
     "output_type": "stream",
     "text": [
      "Start year: 1960\n",
      "End year: 2021\n",
      "Number of years: 62\n"
     ]
    }
   ],
   "source": [
    "file_name = 'monthly_avg_sun_duration'\n",
    "df = explore_dataset(file_name, var_name='avg_sun_duration')"
   ]
  },
  {
   "cell_type": "markdown",
   "metadata": {},
   "source": [
    "#################################"
   ]
  },
  {
   "cell_type": "markdown",
   "metadata": {},
   "source": [
    "## Checking month 13 data\n",
    "The data included values with a month number equal to 13. No description was provided from the data source, but it is suspected that these are the yearly measurements.\n",
    "\n",
    "Comparing the data corresponding to month 13 to the yearly value of the variable to check the assumption."
   ]
  },
  {
   "cell_type": "code",
   "execution_count": 28,
   "metadata": {},
   "outputs": [
    {
     "data": {
      "text/html": [
       "<div>\n",
       "<style scoped>\n",
       "    .dataframe tbody tr th:only-of-type {\n",
       "        vertical-align: middle;\n",
       "    }\n",
       "\n",
       "    .dataframe tbody tr th {\n",
       "        vertical-align: top;\n",
       "    }\n",
       "\n",
       "    .dataframe thead th {\n",
       "        text-align: right;\n",
       "    }\n",
       "</style>\n",
       "<table border=\"1\" class=\"dataframe\">\n",
       "  <thead>\n",
       "    <tr style=\"text-align: right;\">\n",
       "      <th></th>\n",
       "      <th>st_num</th>\n",
       "      <th>year</th>\n",
       "      <th>month</th>\n",
       "      <th>max_temp</th>\n",
       "    </tr>\n",
       "  </thead>\n",
       "  <tbody>\n",
       "    <tr>\n",
       "      <th>count</th>\n",
       "      <td>239287.000000</td>\n",
       "      <td>239287.000000</td>\n",
       "      <td>239287.000000</td>\n",
       "      <td>239287.000000</td>\n",
       "    </tr>\n",
       "    <tr>\n",
       "      <th>mean</th>\n",
       "      <td>17602.704581</td>\n",
       "      <td>2000.880984</td>\n",
       "      <td>6.447141</td>\n",
       "      <td>25.629870</td>\n",
       "    </tr>\n",
       "    <tr>\n",
       "      <th>std</th>\n",
       "      <td>1682.857128</td>\n",
       "      <td>18.066758</td>\n",
       "      <td>3.454303</td>\n",
       "      <td>8.927919</td>\n",
       "    </tr>\n",
       "    <tr>\n",
       "      <th>min</th>\n",
       "      <td>1708.000000</td>\n",
       "      <td>1960.000000</td>\n",
       "      <td>1.000000</td>\n",
       "      <td>-15.400000</td>\n",
       "    </tr>\n",
       "    <tr>\n",
       "      <th>25%</th>\n",
       "      <td>17248.000000</td>\n",
       "      <td>1986.000000</td>\n",
       "      <td>3.000000</td>\n",
       "      <td>19.100000</td>\n",
       "    </tr>\n",
       "    <tr>\n",
       "      <th>50%</th>\n",
       "      <td>17726.000000</td>\n",
       "      <td>2007.000000</td>\n",
       "      <td>6.000000</td>\n",
       "      <td>26.300000</td>\n",
       "    </tr>\n",
       "    <tr>\n",
       "      <th>75%</th>\n",
       "      <td>17964.000000</td>\n",
       "      <td>2017.000000</td>\n",
       "      <td>9.000000</td>\n",
       "      <td>32.900000</td>\n",
       "    </tr>\n",
       "    <tr>\n",
       "      <th>max</th>\n",
       "      <td>19991.000000</td>\n",
       "      <td>2021.000000</td>\n",
       "      <td>12.000000</td>\n",
       "      <td>48.800000</td>\n",
       "    </tr>\n",
       "  </tbody>\n",
       "</table>\n",
       "</div>"
      ],
      "text/plain": [
       "              st_num           year          month       max_temp\n",
       "count  239287.000000  239287.000000  239287.000000  239287.000000\n",
       "mean    17602.704581    2000.880984       6.447141      25.629870\n",
       "std      1682.857128      18.066758       3.454303       8.927919\n",
       "min      1708.000000    1960.000000       1.000000     -15.400000\n",
       "25%     17248.000000    1986.000000       3.000000      19.100000\n",
       "50%     17726.000000    2007.000000       6.000000      26.300000\n",
       "75%     17964.000000    2017.000000       9.000000      32.900000\n",
       "max     19991.000000    2021.000000      12.000000      48.800000"
      ]
     },
     "metadata": {},
     "output_type": "display_data"
    },
    {
     "name": "stdout",
     "output_type": "stream",
     "text": [
      "<class 'pandas.core.frame.DataFrame'>\n",
      "RangeIndex: 257861 entries, 0 to 257860\n",
      "Data columns (total 5 columns):\n",
      " #   Column    Non-Null Count   Dtype  \n",
      "---  ------    --------------   -----  \n",
      " 0   st_num    257861 non-null  int64  \n",
      " 1   st_name   257861 non-null  object \n",
      " 2   year      257861 non-null  int64  \n",
      " 3   month     257861 non-null  int64  \n",
      " 4   max_temp  257861 non-null  float64\n",
      "dtypes: float64(1), int64(3), object(1)\n",
      "memory usage: 9.8+ MB\n"
     ]
    },
    {
     "data": {
      "text/plain": [
       "None"
      ]
     },
     "metadata": {},
     "output_type": "display_data"
    },
    {
     "name": "stdout",
     "output_type": "stream",
     "text": [
      "Start year: 1960\n",
      "End year: 2021\n",
      "Number of years: 62\n"
     ]
    }
   ],
   "source": [
    "# Maximum temperature\n",
    "file_name = 'monthly_max_temperature'\n",
    "df = explore_dataset(file_name, var_name='max_temp')"
   ]
  },
  {
   "cell_type": "code",
   "execution_count": 189,
   "metadata": {},
   "outputs": [
    {
     "data": {
      "text/plain": [
       "count    18574.000000\n",
       "mean         0.000538\n",
       "std          0.052048\n",
       "min          0.000000\n",
       "25%          0.000000\n",
       "50%          0.000000\n",
       "75%          0.000000\n",
       "max          5.400000\n",
       "dtype: float64"
      ]
     },
     "execution_count": 189,
     "metadata": {},
     "output_type": "execute_result"
    }
   ],
   "source": [
    "cond = df['month'] != 13\n",
    "max_temp = df.loc[cond].groupby(['st_num', 'year']).max()[['max_temp']].reset_index()\n",
    "\n",
    "m13_data = df.loc[~cond].merge(max_temp, on=['st_num', 'year'], suffixes=['_13', '_computed'])\n",
    "\n",
    "(m13_data['max_temp_13'] - m13_data['max_temp_computed']).describe()"
   ]
  },
  {
   "cell_type": "markdown",
   "metadata": {},
   "source": [
    "Apparently, the maximum yearly temperature is equal to the value corresponding to month 13 in almost all cases."
   ]
  },
  {
   "cell_type": "code",
   "execution_count": 29,
   "metadata": {},
   "outputs": [
    {
     "data": {
      "text/html": [
       "<div>\n",
       "<style scoped>\n",
       "    .dataframe tbody tr th:only-of-type {\n",
       "        vertical-align: middle;\n",
       "    }\n",
       "\n",
       "    .dataframe tbody tr th {\n",
       "        vertical-align: top;\n",
       "    }\n",
       "\n",
       "    .dataframe thead th {\n",
       "        text-align: right;\n",
       "    }\n",
       "</style>\n",
       "<table border=\"1\" class=\"dataframe\">\n",
       "  <thead>\n",
       "    <tr style=\"text-align: right;\">\n",
       "      <th></th>\n",
       "      <th>st_num</th>\n",
       "      <th>year</th>\n",
       "      <th>month</th>\n",
       "      <th>avg_temp</th>\n",
       "    </tr>\n",
       "  </thead>\n",
       "  <tbody>\n",
       "    <tr>\n",
       "      <th>count</th>\n",
       "      <td>247062.000000</td>\n",
       "      <td>247062.000000</td>\n",
       "      <td>247062.000000</td>\n",
       "      <td>247062.000000</td>\n",
       "    </tr>\n",
       "    <tr>\n",
       "      <th>mean</th>\n",
       "      <td>17588.717613</td>\n",
       "      <td>2000.894269</td>\n",
       "      <td>6.446977</td>\n",
       "      <td>13.295580</td>\n",
       "    </tr>\n",
       "    <tr>\n",
       "      <th>std</th>\n",
       "      <td>1667.479321</td>\n",
       "      <td>17.923482</td>\n",
       "      <td>3.455050</td>\n",
       "      <td>8.681344</td>\n",
       "    </tr>\n",
       "    <tr>\n",
       "      <th>min</th>\n",
       "      <td>1708.000000</td>\n",
       "      <td>1960.000000</td>\n",
       "      <td>1.000000</td>\n",
       "      <td>-24.400000</td>\n",
       "    </tr>\n",
       "    <tr>\n",
       "      <th>25%</th>\n",
       "      <td>17240.000000</td>\n",
       "      <td>1987.000000</td>\n",
       "      <td>3.000000</td>\n",
       "      <td>6.800000</td>\n",
       "    </tr>\n",
       "    <tr>\n",
       "      <th>50%</th>\n",
       "      <td>17707.000000</td>\n",
       "      <td>2007.000000</td>\n",
       "      <td>6.000000</td>\n",
       "      <td>13.400000</td>\n",
       "    </tr>\n",
       "    <tr>\n",
       "      <th>75%</th>\n",
       "      <td>17958.000000</td>\n",
       "      <td>2017.000000</td>\n",
       "      <td>9.000000</td>\n",
       "      <td>20.300000</td>\n",
       "    </tr>\n",
       "    <tr>\n",
       "      <th>max</th>\n",
       "      <td>19991.000000</td>\n",
       "      <td>2021.000000</td>\n",
       "      <td>12.000000</td>\n",
       "      <td>39.500000</td>\n",
       "    </tr>\n",
       "  </tbody>\n",
       "</table>\n",
       "</div>"
      ],
      "text/plain": [
       "              st_num           year          month       avg_temp\n",
       "count  247062.000000  247062.000000  247062.000000  247062.000000\n",
       "mean    17588.717613    2000.894269       6.446977      13.295580\n",
       "std      1667.479321      17.923482       3.455050       8.681344\n",
       "min      1708.000000    1960.000000       1.000000     -24.400000\n",
       "25%     17240.000000    1987.000000       3.000000       6.800000\n",
       "50%     17707.000000    2007.000000       6.000000      13.400000\n",
       "75%     17958.000000    2017.000000       9.000000      20.300000\n",
       "max     19991.000000    2021.000000      12.000000      39.500000"
      ]
     },
     "metadata": {},
     "output_type": "display_data"
    },
    {
     "name": "stdout",
     "output_type": "stream",
     "text": [
      "<class 'pandas.core.frame.DataFrame'>\n",
      "RangeIndex: 265632 entries, 0 to 265631\n",
      "Data columns (total 5 columns):\n",
      " #   Column    Non-Null Count   Dtype  \n",
      "---  ------    --------------   -----  \n",
      " 0   st_num    265632 non-null  int64  \n",
      " 1   st_name   265632 non-null  object \n",
      " 2   year      265632 non-null  int64  \n",
      " 3   month     265632 non-null  int64  \n",
      " 4   avg_temp  265632 non-null  float64\n",
      "dtypes: float64(1), int64(3), object(1)\n",
      "memory usage: 10.1+ MB\n"
     ]
    },
    {
     "data": {
      "text/plain": [
       "None"
      ]
     },
     "metadata": {},
     "output_type": "display_data"
    },
    {
     "name": "stdout",
     "output_type": "stream",
     "text": [
      "Start year: 1960\n",
      "End year: 2021\n",
      "Number of years: 62\n"
     ]
    }
   ],
   "source": [
    "# Average temperature\n",
    "file_name = 'monthly_avg_temperature'\n",
    "df = explore_dataset(file_name, var_name='avg_temp')"
   ]
  },
  {
   "cell_type": "code",
   "execution_count": 192,
   "metadata": {},
   "outputs": [
    {
     "data": {
      "text/plain": [
       "count    18570.000000\n",
       "mean         0.052662\n",
       "std          0.147515\n",
       "min         -2.125000\n",
       "25%          0.016667\n",
       "50%          0.041667\n",
       "75%          0.075000\n",
       "max          2.300000\n",
       "dtype: float64"
      ]
     },
     "execution_count": 192,
     "metadata": {},
     "output_type": "execute_result"
    }
   ],
   "source": [
    "cond = df['month'] != 13\n",
    "avg_temp = df.loc[cond].groupby(['st_num', 'year']).mean()[['avg_temp']].reset_index()\n",
    "\n",
    "m13_data = df.loc[~cond].merge(avg_temp, on=['st_num', 'year'], suffixes=['_13', '_computed'])\n",
    "\n",
    "(m13_data['avg_temp_13'] - m13_data['avg_temp_computed']).describe()"
   ]
  },
  {
   "cell_type": "code",
   "execution_count": null,
   "metadata": {},
   "outputs": [],
   "source": []
  }
 ],
 "metadata": {
  "kernelspec": {
   "display_name": "Python 3 (ipykernel)",
   "language": "python",
   "name": "python3"
  },
  "language_info": {
   "codemirror_mode": {
    "name": "ipython",
    "version": 3
   },
   "file_extension": ".py",
   "mimetype": "text/x-python",
   "name": "python",
   "nbconvert_exporter": "python",
   "pygments_lexer": "ipython3",
   "version": "3.9.7"
  }
 },
 "nbformat": 4,
 "nbformat_minor": 2
}
