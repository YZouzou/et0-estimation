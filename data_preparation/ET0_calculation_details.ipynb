{
 "cells": [
  {
   "cell_type": "markdown",
   "metadata": {},
   "source": [
    "# ET0 Calculation\n",
    "In this notebook, the reference evapotranspiration (ET0) calculation process is summarized. The computation is done in the script **process_data.py**.\n",
    "\n",
    "### Notes\n",
    "* Equations and the accompanying clarifications are taken from the [\"FAO Irrigation and drainage paper 56\"](http://www.fao.org/3/x0490e/x0490e00.htm#Contents).\n",
    "* The functions used in this notebook are found in *ETProject/ET0_functions.py*"
   ]
  },
  {
   "cell_type": "markdown",
   "metadata": {},
   "source": [
    "ET0 equation:\n",
    "\n",
    "$$ ET_0 = \\frac{0.408 \\Delta \\cdot \\left( R_n - G \\right) + \\gamma \\cdot \\frac{900}{T + 273} \\cdot u_2 \\cdot \\left(e_s - e_a \\right)}{\\Delta + \\gamma \\cdot \\left( 1 + 0.34 \\cdot u_2 \\right)} $$\n",
    "\n",
    "Where:\n",
    "\n",
    "* $ET_0$ reference evapotranspiration ($mm \\cdot day^{-1}$)\n",
    "* $R_n$ net radiation ($MJ \\cdot m^{-2} \\cdot day^{-1}$)\n",
    "* $G$ soil heat flux density ($MJ \\cdot m^{-2} \\cdot day^{-1}$)\n",
    "* $T$ mean daily air temperature at 2 m height (°C) **calculated as the mean between max and min temperatures**\n",
    "* $u_2$ wind speed at 2 m height ($m \\cdot s^{-1}$)\n",
    "* $e_s$ saturation vapour pressure ($kPa$)\n",
    "* $e_a$ actual vapour pressure ($kPa$)\n",
    "* $\\Delta$ slope vapour pressure deficit ($kPa \\cdot °C^{-1}$)\n",
    "* $\\gamma$ psychometric constant ($kPa \\cdot °C^{-1}$)"
   ]
  },
  {
   "cell_type": "markdown",
   "metadata": {},
   "source": [
    "#### Required variables:\n",
    "\n",
    "1. Elevation ($m$)\n",
    "2. Latitude (degrees)\n",
    "3. Max and min Temperatures $T_{min}$, $T_{max}$ ($°C$)\n",
    "4. Max and min relative humidities $RH_{min}$, $RH_{max}$ (%)\n",
    "5. Day of year\n",
    "6. Average wind speed $u_z$ ($m \\cdot s^{-1}$)\n",
    "7. Solar Radiation ($MJ \\cdot m^{-2} \\cdot day^{-1}$) or sunshine duration (hr)"
   ]
  },
  {
   "cell_type": "code",
   "execution_count": 2,
   "metadata": {},
   "outputs": [],
   "source": [
    "import pandas as pd\n",
    "import numpy as np\n",
    "import matplotlib.pyplot as plt\n",
    "import os\n",
    "from pathlib import Path\n",
    "\n",
    "# Changing default directory to the project's main directory\n",
    "os.chdir(Path.cwd().parent)\n",
    "\n",
    "# Loading ET0 function definitions from ETProject\n",
    "from ETProject.ET0_functions import *"
   ]
  },
  {
   "cell_type": "markdown",
   "metadata": {},
   "source": [
    "### Atmospheric Pressure (P)\n",
    "\n",
    "$$ P = 101.3 \\cdot \\left( \\frac{293-0.0065 \\cdot z}{293} \\right) ^{5.26} $$"
   ]
  },
  {
   "cell_type": "markdown",
   "metadata": {},
   "source": [
    "### Latent heat of vaporization ($\\lambda$)\n",
    "The latent heat of vaporization expresses the energy required to change a unit mass of water from liquid to water vapour in a constant pressure and constant temperature process.\n",
    "\n",
    "$$ \\lambda = 2.45 \\space MJ \\cdot kg^{-1} $$\n",
    "\n",
    "This is the latent heat for an air temperature of about 20°C, however it is accepted for normal temperature variations in the FAO 56 PM equation."
   ]
  },
  {
   "cell_type": "markdown",
   "metadata": {},
   "source": [
    "### Psychrometric Constant ($\\gamma$)\n",
    "$$ \\gamma = \\frac{c_p \\cdot P}{\\epsilon \\cdot \\lambda} = 0.665 \\times 10^{-3} \\cdot P$$\n",
    "Where:\n",
    "* $\\gamma$ psychrometric constant ($ kPa \\cdot °C^{-1} $)\n",
    "* P atmospheric pressure ($kPa$)\n",
    "* $\\lambda$ latent heat of vaporization ($MJ \\cdot kg^{-1}$)\n",
    "* $c_p$ specific heat at constant pressure\n",
    "    * $ c_p = 1.013 \\cdot 10^{-3} MJ \\cdot kg^{-1} °C^{-1} $\n",
    "* $\\epsilon$ ratio molecular weight of water vapour/dry air\n",
    "    * $ \\epsilon = 0.622 $"
   ]
  },
  {
   "cell_type": "code",
   "execution_count": 4,
   "metadata": {},
   "outputs": [],
   "source": [
    "psych_constant?"
   ]
  },
  {
   "cell_type": "code",
   "execution_count": 2,
   "metadata": {},
   "outputs": [
    {
     "name": "stdout",
     "output_type": "stream",
     "text": [
      "Psychrometric Constant = 0.054\n"
     ]
    }
   ],
   "source": [
    "z = 1800\n",
    "gam = psych_constant(z)\n",
    "\n",
    "print('Psychrometric Constant = {:.3f}'.format(gam))"
   ]
  },
  {
   "cell_type": "markdown",
   "metadata": {},
   "source": [
    "### Air Temperature\n",
    "\"The daily maximum air temperature (Tmax) and daily minimum air temperature (Tmin) are, respectively, the maximum and minimum air temperature observed during the 24-hour period, beginning at midnight. *Tmax and Tmin for longer periods such as weeks, 10-days or months are obtained by dividing the sum of the respective daily values by the number of days in the period.*\"\n",
    "\n",
    "$$ T_{mean} = \\frac{T_{max} + T_{min}}{2} $$\n",
    "\n",
    "**In the source the equation has a - sign instead of a + sign**"
   ]
  },
  {
   "cell_type": "markdown",
   "metadata": {},
   "source": [
    "### Air Humidity\n",
    "\"Relative humidity and dewpoint temperature data are notoriously plagued by measurement errors. Measurement error is common for both older hygrothermograph types of instruments and for the more modem electronic instruments. Frequently, it is better to utilize a dewpoint temperature that is predicted from daily minimum air temperature, rather than to use unreliable relative humidity measurements. The user is encouraged to utilize good judgement in this area.\""
   ]
  },
  {
   "cell_type": "markdown",
   "metadata": {},
   "source": [
    "### Mean Saturation Vapour Pressure ($e_s$)\n",
    "* Saturation vapour pressure:\n",
    "$$ e°(T) = 0.6108 \\cdot exp \\left( \\frac{17.27 \\cdot T}{T + 237.3} \\right) $$\n",
    "Where:\n",
    "    * $e°(T)$ saturation vapour pressure at the air temperature T (kPa)\n",
    "    * T air temperature (°C)\n",
    "    \n",
    "\n",
    "* Mean saturation vapour pressure:\n",
    "$$ e_s = \\frac{e°(T_{max}) + e°(T_{min})}{2} $$\n",
    "\n",
    "#### Notes:\n",
    "* Due to the non-linearity of the above equation, the mean saturation vapour pressure for a day, week, decade or month should be computed as the mean between the saturation vapour pressure at the mean daily maximum and minimum air temperatures for that period.\n",
    "* Using mean air temperature instead of daily minimum and maximum temperatures results in lower estimates for the mean saturation vapour pressure."
   ]
  },
  {
   "cell_type": "code",
   "execution_count": 5,
   "metadata": {},
   "outputs": [],
   "source": [
    "sat_vap_pressure?"
   ]
  },
  {
   "cell_type": "code",
   "execution_count": 3,
   "metadata": {},
   "outputs": [
    {
     "name": "stdout",
     "output_type": "stream",
     "text": [
      "es max-min = 2.390\n",
      "es mean = 2.302\n"
     ]
    }
   ],
   "source": [
    "T1 = 24.5\n",
    "T2 = 15\n",
    "Tmean = (T1 + T2) / 2\n",
    "es_maxmin = (sat_vap_pressure(T1) + sat_vap_pressure(T2)) / 2\n",
    "es_mean = sat_vap_pressure(Tmean)\n",
    "print('es max-min = {:.3f}'.format(es_maxmin))\n",
    "print('es mean = {:.3f}'.format(es_mean))"
   ]
  },
  {
   "cell_type": "markdown",
   "metadata": {},
   "source": [
    "### Slope of Saturation Vapour Pressure Curve ($\\Delta$)\n",
    "$$ \\Delta = \\frac{4098 \\cdot \\left( 0.6108 \\cdot exp \\left(\\frac{17.27 \\cdot T}{T + 237.3} \\right) \\right)}{(T + 237.3)^2} $$\n",
    "\n",
    "Where:\n",
    "* $\\Delta$ slope of saturation vapour pressure curve at air temperature T ($kPa \\cdot °C^{-1}$)\n",
    "* T mean air temperature calculated using max and min temperatures as explained earlier (°C)"
   ]
  },
  {
   "cell_type": "markdown",
   "metadata": {},
   "source": [
    "### Actual vapour pressure ($e_a$) derived from relative humidity data\n",
    "\n",
    "* Using $RH_{max}$ and $RH_{min}$:\n",
    "\n",
    "$$ e_a = \\frac{e°(T_{min}) \\cdot \\frac{RH_{max}}{100} + e°(T_{max}) \\cdot \\frac{RH_{min}}{100}}{2} $$\n",
    "\n",
    "* When using equipment where errors in estimating $RH_{min}$ can be large, or when RH data integrity are in doubt, then one should use only $RH_{max}$:\n",
    "\n",
    "$$ e_a = e°(T_{min}) \\cdot \\frac{RH_{max}}{100} $$"
   ]
  },
  {
   "cell_type": "code",
   "execution_count": 6,
   "metadata": {},
   "outputs": [],
   "source": [
    "actual_vap_pressure?"
   ]
  },
  {
   "cell_type": "code",
   "execution_count": 4,
   "metadata": {},
   "outputs": [
    {
     "name": "stdout",
     "output_type": "stream",
     "text": [
      "maxmin = True:\n",
      "1.702\n",
      "maxmin = False:\n",
      "1.692\n"
     ]
    }
   ],
   "source": [
    "Tmin = 18\n",
    "Tmax = 25\n",
    "RHmin = 54\n",
    "RHmax = 82\n",
    "print('maxmin = True:\\n{:.3f}'.format(actual_vap_pressure(Tmin, RHmax, Tmax, RHmin, maxmin = True)))\n",
    "print('maxmin = False:\\n{:.3f}'.format(actual_vap_pressure(Tmin, RHmax, Tmax, RHmin, maxmin = False)))"
   ]
  },
  {
   "cell_type": "markdown",
   "metadata": {},
   "source": [
    "### Radiation\n",
    "\n",
    "#### Extraterrestrial Radiation $R_a$:\n",
    "Extraterrestrial radiation is the total radiation that should theoretically reach the earth from the sun, excluding the radiation absorbed by the atmosphere. It is calculated using a constant value of sun radiation modified by the time and location of the studied are, which affects the angle of arrival of the solar radiation to the earth.\n",
    "\n",
    "$R_a$ for a certain day and location:\n",
    "\n",
    "$$ R_a = \\frac{24 \\cdot 60}{\\pi} \\cdot G_{sc} \\cdot d_r \\cdot \\left[ \\omega_s \\cdot sin(\\varphi) \\cdot sin(\\delta) + cos(\\varphi) \\cdot cos(\\delta) \\cdot sin(\\omega_s) \\right] $$\n",
    "\n",
    "Where:\n",
    "* $R_a$ extraterrestrial radiation $MJ \\cdot m^{-2} \\cdot day^{-1}$\n",
    "* $G_{sc}$ solar constant ($0.082 MJ \\cdot m^{-2} \\cdot min^{-1}$)\n",
    "* $d_r$ inverse relative distance Earth-Sun\n",
    "* $\\omega_s$ sunset hour angle (rad)\n",
    "* $\\varphi$ latitude (rad) - positive for northern hemisphere and negative for southern hemisphere\n",
    "* $\\delta$ solar decimation (rad)\n",
    "\n",
    "$$ d_r = 1 + 0.033 \\cdot cos \\left( \\frac{2\\pi}{365} \\cdot J \\right) $$\n",
    "\n",
    "$$ \\delta = 0.409 \\cdot sin \\left( \\frac{2\\pi}{365} \\cdot J - 1.39 \\right) $$ \n",
    "\n",
    "Where:\n",
    "* J number of the day in the year (1-365/366) (see Table 2.5 in Annex 2)\n",
    "\n",
    "$$ \\omega_s = arccos \\left( -tan(\\varphi) \\cdot tan(\\delta) \\right) $$"
   ]
  },
  {
   "cell_type": "code",
   "execution_count": 7,
   "metadata": {},
   "outputs": [],
   "source": [
    "extra_terr_rad?"
   ]
  },
  {
   "cell_type": "code",
   "execution_count": 5,
   "metadata": {},
   "outputs": [
    {
     "name": "stdout",
     "output_type": "stream",
     "text": [
      "Ra = 32.19\n"
     ]
    }
   ],
   "source": [
    "# Example 8.\n",
    "lat = -20\n",
    "day = 246\n",
    "Ra = extra_terr_rad(lat, day=day)\n",
    "print('Ra = {:.2f}'.format(Ra))"
   ]
  },
  {
   "cell_type": "markdown",
   "metadata": {},
   "source": [
    "#### Solar or Shortwave Radiation $R_s$:\n",
    "Solar radiation $R_s$ is the actual amount of radiation that reaches the earth from the sun in a certain point. This value could be measured or computed from sunshine hours using the Angstrom equation:\n",
    "\n",
    "$$ R_s = (a_s + b_s \\frac{n}{N})R_a $$\n",
    "\n",
    "Where:\n",
    "* $a_s$ Fraction of extraterrestrial radiation reaching the earth on overcast days (n = 0)\n",
    "* $a_s + b_s$ Fraction of extraterrestrial radiation reaching the earth on clear days (n = N)\n",
    "* $n$: Daily measured sunlight hours\n",
    "* $N$: Total daily day hours (according to time and location)\n",
    "\n",
    "$$ N = \\frac{24}{\\pi} \\omega_s $$"
   ]
  },
  {
   "cell_type": "markdown",
   "metadata": {},
   "source": [
    "#### Clear Sky Solar Radiation $R_{s0}$:\n",
    "$R_{so}$ is the solar radiation that would reach the earth when the sky is clear. It is estimated from the extraterrestrial radiation $R_a$. $\\frac{R_s}{R_{so}}$  is therefore the ratio of actual solar radiation to the clear sky solar radiation, ranging between 0.33 and 1.\n",
    "\n",
    "$$ R_{so} = (0.75 + 2 \\cdot 10^{-5} \\cdot Z) \\cdot R_a $$\n",
    "\n",
    "Where:\n",
    "* $R_{so}$ in $(MJ \\cdot m^{-2} \\cdot day^{-1})$\n",
    "* $Z$ station elevation above sea level ($m$)"
   ]
  },
  {
   "cell_type": "markdown",
   "metadata": {},
   "source": [
    "#### Albedo (α) and Net Solar Radiation ($R_{ns}$):\n",
    "Albedo is the fraction of solar radiation reflected by the earth. It depends on the earth cover. For the reference crop used in ET0 estimation, α=0.23.\n",
    "\n",
    "$$ R_{ns} = (1-\\alpha) \\cdot R_s$$\n",
    "\n",
    "Where:\n",
    "* $ R_{ns}$ in $(MJ \\cdot m^{-2} \\cdot day^{-1})$\n",
    "* $\\alpha$ albedo, 0.23 for the hypothetical grass reference crop\n",
    "* $R_s$ incoming solar radiation $(MJ \\cdot m^{-2} \\cdot day^{-1} )$"
   ]
  },
  {
   "cell_type": "markdown",
   "metadata": {},
   "source": [
    "#### Net Longwave Radiation ($R_{nl}$):\n",
    "During the processes in which the earth is heated by radiation, the earth loses energy and some of this lost energy is constituted of emitted radiation. Some of this emitted radiation is absorbed by the atmosphere, heating it in the process and is returned eventually to the earth. The remaining part is lost in space. Net longwave radiation is the radiation lost from the earth in these processes. As the outgoing longwave radiation is almost always greater than me incoming longwave radiation, $R_{nl}$ represents an energy loss.\n",
    "\n",
    "$$ R_{nl} = \\sigma \\cdot \\left[ \\frac{T_{max, K}^4 + T_{min, K}^4}{2} \\right] \\cdot \\left(0.34 - 0.14 \\sqrt{e_a} \\right) \\cdot \\left( 1.35 \\cdot \\frac{R_s}{R_{so}} - 0.35 \\right) $$\n",
    "\n",
    "Where:\n",
    "* $R_{nl}$ in $(MJ \\cdot m^{-2} \\cdot day^{-1})$\n",
    "* $\\sigma$ Stefan-Boltzmann constant ($ 4.903 \\cdot 10^{-9} MJ \\cdot K^{-4} \\cdot m^{-2} \\cdot day ^{-1} $)\n",
    "* $T_{max, K}$, $T_{min, K}$ maximum and minimum absolute temperature during the 24-hour period ($K = °C + 273.16$)\n",
    "* $e_a$ actual vapour pressure ($kPa$)\n",
    "* $\\frac{R_s}{R_{so}} \\leq 1$ relative shortwave radiation\n",
    "* $R_s$, $R_{so}$ in ($MJ \\cdot m^{-2} \\cdot day^{-1}$)"
   ]
  },
  {
   "cell_type": "code",
   "execution_count": null,
   "metadata": {},
   "outputs": [],
   "source": [
    "clear_sky_rad?"
   ]
  },
  {
   "cell_type": "code",
   "execution_count": null,
   "metadata": {},
   "outputs": [],
   "source": [
    "net_long_rad?"
   ]
  },
  {
   "cell_type": "code",
   "execution_count": 6,
   "metadata": {},
   "outputs": [
    {
     "name": "stdout",
     "output_type": "stream",
     "text": [
      "Rso = 18.83\n",
      "Rnl = 3.53\n"
     ]
    }
   ],
   "source": [
    "# Example 11\n",
    "lat = -22.7\n",
    "Tmax = 25.1\n",
    "Tmin = 19.1\n",
    "ea = 2.1\n",
    "Rs = 14.5\n",
    "elev = 2\n",
    "Ra = 25.1\n",
    "\n",
    "Rso = clear_sky_rad(elev, ex_rad = Ra)\n",
    "Rnl = net_long_rad(Tmax, Tmin, ea, Rs, Rso)\n",
    "\n",
    "print('Rso = {:.2f}'.format(Rso))\n",
    "print('Rnl = {:.2f}'.format(Rnl))"
   ]
  },
  {
   "cell_type": "markdown",
   "metadata": {},
   "source": [
    "#### Net Radiation ($R_n$):\n",
    "It is the difference between the incoming net shortwave $R_{ns}$, and the net outgoing longwave $R_{nl}$ radiation. It is normally positive in daytime and negative at night. In a 24-hour period $R_n$ is usually positive.\n",
    "\n",
    "$$ R_n = R_{ns} - R_{nl} $$\n",
    "\n",
    "#### Soil Heat Flux (G):\n",
    "The soil heat flux, G, is the energy that is utilized in heating the soil. G is positive when the soil is warming and negative when the soil is cooling.\n",
    "\n",
    "$$ G_{month, i} = 0.07 \\cdot \\left( T_{month, i+1} - T_{month, i-1} \\right) $$\n",
    "\n",
    "Or:\n",
    "\n",
    "$$ G_{month, i} = 0.14 \\cdot \\left( T_{month, i} - T_{month, i-1} \\right) $$\n",
    "\n",
    "Where:\n",
    "* $T_{month, i}$ mean air temperature of month i (°C)\n",
    "\n",
    "\n",
    "\n",
    "#### Note:\n",
    "The standard energy unit used by FAO in the FAO-56 PM handbook is $MJ \\cdot m^{-2} \\cdot day^{-1} $. This is then converted to equivalent evaporation in $mm \\cdot day^{-1}$ using the following function:\n",
    "\n",
    "$$ R_{\\text{depth of water}} = \\frac{R_{\\text{energy/surface}}}{\\lambda \\cdot \\rho_w} \\space\\space (m \\cdot day^{-1})$$\n",
    "\n",
    "Where:\n",
    "* $\\lambda$ latent heat of vaporization ($2.45 \\space MJ \\cdot kg^{-1}$)\n",
    "* $\\rho_w$ density of water ($1000 \\space kg \\cdot m^{-3}$)\n",
    "\n",
    "By substituting in the values we find the radiation in $mm \\cdot day^{-1}$ is:\n",
    "\n",
    "$$ R_{mm\\cdot day^{-1}} = \\frac{R_{MJ \\cdot m^{-2} \\cdot day^{-1}}}{2.45} = 0.408 \\cdot R_{MJ \\cdot m^{-2} \\cdot day^{-1}} $$"
   ]
  },
  {
   "cell_type": "markdown",
   "metadata": {},
   "source": [
    "### Wind Speed\n",
    "According to the [**Turkish State Meteorological Service**](https://mgm.gov.tr/genel/meteorolojikaletler.aspx?s=9), wind speed is measured at a height of 10m above the ground in weather stations.\n",
    "\n",
    "To calculate the equivalent wind speed at a height 2m above the ground:\n",
    "\n",
    "$$ u_2 = u_z \\cdot \\frac{4.87}{ln \\left( 67.8 Z - 5.42 \\right)} $$\n",
    "\n",
    "Where:\n",
    "* $u_2$ wind speed at 2m above the ground ($m \\cdot s^{-1}$)\n",
    "* $u_z$ wind speed at z m above the ground ($m \\cdot s^{-1}$)\n",
    "* Z height of measurement above the ground ($m$)"
   ]
  },
  {
   "cell_type": "code",
   "execution_count": null,
   "metadata": {},
   "outputs": [],
   "source": [
    "windspeed_2m?"
   ]
  },
  {
   "cell_type": "code",
   "execution_count": 7,
   "metadata": {},
   "outputs": [
    {
     "name": "stdout",
     "output_type": "stream",
     "text": [
      "U2 = 2.39\n"
     ]
    }
   ],
   "source": [
    "# Example 14.\n",
    "uz = 3.2\n",
    "z = 10\n",
    "print('U2 = {:.2f}'.format(windspeed_2m(z, uz)))"
   ]
  },
  {
   "cell_type": "markdown",
   "metadata": {},
   "source": [
    "### Reference Evapotranspiration (ET0)\n",
    "\n",
    "ET0 equation:\n",
    "\n",
    "$$ ET_0 = \\frac{0.408 \\Delta \\cdot \\left( R_n - G \\right) + \\gamma \\cdot \\frac{900}{T + 273} \\cdot u_2 \\cdot \\left(e_s - e_a \\right)}{\\Delta + \\gamma \\cdot \\left( 1 + 0.34 \\cdot u_2 \\right)} $$"
   ]
  },
  {
   "cell_type": "markdown",
   "metadata": {},
   "source": [
    "#### FAO paper 56 - Chapter 4 - Example 17"
   ]
  },
  {
   "cell_type": "code",
   "execution_count": 8,
   "metadata": {},
   "outputs": [],
   "source": [
    "compute_ET0?"
   ]
  },
  {
   "cell_type": "code",
   "execution_count": 8,
   "metadata": {},
   "outputs": [
    {
     "data": {
      "text/plain": [
       "{'psych_const': 0.06734878003684622,\n",
       " 'es': 4.421797805749032,\n",
       " 'ea': 2.8500034464652364,\n",
       " 'sat_slope': 0.2458002831073227,\n",
       " 'Ra': 38.08763099465575,\n",
       " 'Rso': 28.567246751231597,\n",
       " 'Rns': 17.4405,\n",
       " 'Rnl': 3.1047701797047287,\n",
       " 'Rn': 14.33572982029527,\n",
       " 'ET0': 5.7169772124324485}"
      ]
     },
     "execution_count": 8,
     "metadata": {},
     "output_type": "execute_result"
    }
   ],
   "source": [
    "lat = 13.73\n",
    "elev = 2\n",
    "month = 4\n",
    "max_temp = 34.8\n",
    "min_temp = 25.6\n",
    "avg_temp = 30.2\n",
    "max_hum = 86.817\n",
    "min_hum = 0\n",
    "avg_ws = 2\n",
    "inc_rad = 22.65\n",
    "G = 0.14\n",
    "\n",
    "compute_ET0(latitude=lat, elev=elev, month=month, max_temp=max_temp,\n",
    "                min_temp=min_temp, avg_temp=avg_temp, RHmax=max_hum,\n",
    "                RHmin= min_hum, avg_ws=avg_ws,\n",
    "               inc_rad=inc_rad, G=G, maxmin=False, G_method=0, compute_inc_rad=False)"
   ]
  },
  {
   "cell_type": "code",
   "execution_count": null,
   "metadata": {},
   "outputs": [],
   "source": []
  }
 ],
 "metadata": {
  "kernelspec": {
   "display_name": "Python 3 (ipykernel)",
   "language": "python",
   "name": "python3"
  },
  "language_info": {
   "codemirror_mode": {
    "name": "ipython",
    "version": 3
   },
   "file_extension": ".py",
   "mimetype": "text/x-python",
   "name": "python",
   "nbconvert_exporter": "python",
   "pygments_lexer": "ipython3",
   "version": "3.9.7"
  }
 },
 "nbformat": 4,
 "nbformat_minor": 2
}
