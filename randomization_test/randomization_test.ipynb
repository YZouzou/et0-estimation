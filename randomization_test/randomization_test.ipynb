{
 "cells": [
  {
   "cell_type": "markdown",
   "id": "85aaa213",
   "metadata": {},
   "source": [
    "# Randomization test\n",
    "In this notebook, the change in prediction error associated with the use of seven regional models in comparison to one general model is evaluated using a randomization test. Under the null hypothesis, the use of regional models defined on the seven geographical regions of Turkey does not result in a reduction in prediction error in comparison with one general model for all of Turkey. Therefore, under the null hypothesis, any random assignment of stations to seven clusters has the potential of producing a similar reduction in prediction error. The alternative hypothesis states that the use of these specific regions to create regional models resulted in a reduction in prediction error.\n",
    "\n",
    "The steps of this evaluation method is described below:\n",
    "* Weather stations are randomly assigned to 7 clusters, where the number of datapoints in each cluster is determined by sampling from a Dirichlet distribution in order to obtain cluster dataset sizes similar to the dataset size in each of the seven regions used in this study. (See creating test_permutations notebook for more details)\n",
    "* Stations in each cluster are split to train and test stations.\n",
    "* A polynomial regression model is trained for each cluster.\n",
    "* A general model is trained on all training stations combined and its prediction's RMSE is computed.\n",
    "* The combined predictions of the 7 cluster models are used to compute the cluster model RMSE.\n",
    "* The change in RMSE between the general and cluster models is computed using the following equation:\n",
    "$$ RMSE_{change} = \\frac{RMSE_{cluster} - RMSE_{general}}{RMSE_{general}} $$\n",
    "* The previous steps are repeated 1000 times\n",
    "* A p-value is computed by taking the ratio of iterations in which the reduction in prediction error ($RMSE_{change}$) exceeded that of the studied models.\n",
    "\n",
    "\n",
    "### Readings:\n",
    "* [On different randomization tests](https://stats.stackexchange.com/questions/104040/resampling-simulation-methods-monte-carlo-bootstrapping-jackknifing-cross)\n",
    "* **Book**: Permutation, Parametric and Bootstrap Tests of Hypotheses\n",
    "* [On bootstrap test power](https://stats.stackexchange.com/questions/420959/why-is-power-of-a-hypothesis-test-a-concern-when-we-can-bootstrap-any-representa)\n",
    "* [On how to compute power by simulation](https://nickch-k.github.io/EconometricsSlides/Week_08/Power_Simulations.html)\n",
    "* [On multiple test corrections](https://www.stat.berkeley.edu/~mgoldman/Section0402.pdf)\n",
    "* [Simulation based power analysis](https://osf.io/n62hg/)\n",
    "\n",
    "\n",
    "**Note**:\n",
    "* The functions used in this notebook are found in *ETProject/RandomizationTest*."
   ]
  },
  {
   "cell_type": "code",
   "execution_count": 1,
   "id": "6a5c7431",
   "metadata": {},
   "outputs": [],
   "source": [
    "import pandas as pd\n",
    "import numpy as np\n",
    "import matplotlib.pyplot as plt\n",
    "import os\n",
    "from pathlib import Path\n",
    "import yaml\n",
    "from scipy.stats import dirichlet\n",
    "import time\n",
    "\n",
    "main_dir_path = Path.cwd().parents[0]\n",
    "os.chdir(main_dir_path)\n",
    "\n",
    "from ETProject.MyModel import PolynomialRegressor\n",
    "from ETProject.RandomizationTest import *"
   ]
  },
  {
   "cell_type": "markdown",
   "id": "a2a10143",
   "metadata": {},
   "source": [
    "### Loading data"
   ]
  },
  {
   "cell_type": "code",
   "execution_count": 7,
   "id": "9d65b3d1",
   "metadata": {},
   "outputs": [],
   "source": [
    "# Loading previously created cluster permutations\n",
    "path = 'randomization_test'\n",
    "\n",
    "file_name = 'cluster_permutations.csv'\n",
    "permutations = pd.read_csv(os.path.join(path, file_name))\n",
    "\n",
    "# Loading ET data\n",
    "all_data = pd.read_csv('processed_data/et_data.csv')"
   ]
  },
  {
   "cell_type": "markdown",
   "id": "7ce0fd1f",
   "metadata": {},
   "source": [
    "Defining scoring function"
   ]
  },
  {
   "cell_type": "code",
   "execution_count": 8,
   "id": "ad2ef670",
   "metadata": {},
   "outputs": [],
   "source": [
    "def rmse(y_true, y_pred):\n",
    "    return np.sqrt( (1/y_true.shape[0]) * np.sum((y_true-y_pred)**2) )"
   ]
  },
  {
   "cell_type": "markdown",
   "id": "cc8c15e7",
   "metadata": {},
   "source": [
    "Running test"
   ]
  },
  {
   "cell_type": "code",
   "execution_count": 42,
   "id": "9b867253",
   "metadata": {
    "scrolled": true
   },
   "outputs": [
    {
     "name": "stdout",
     "output_type": "stream",
     "text": [
      "Started randomization test\n",
      "Number of iterations: 1000\n",
      "\n",
      "\n",
      "_________________________________________________\n",
      "#################################################\n",
      "Test time: 614.5390510559082\n"
     ]
    }
   ],
   "source": [
    "input_combo = 3\n",
    "regressor = PolynomialRegressor\n",
    "score_fun = rmse\n",
    "\n",
    "\n",
    "rand_test = RandomizationTest(all_data,\n",
    "                              permutations,\n",
    "                              input_combo,\n",
    "                              regressor,\n",
    "                              score_fun)\n",
    "\n",
    "t1 = time.time()\n",
    "df = rand_test.run_test()\n",
    "t2 = time.time()\n",
    "test_time = t2 - t1\n",
    "\n",
    "# Saving test results\n",
    "path = 'combo_{}_test.csv'.format(input_combo)\n",
    "# df.to_csv(path)\n",
    "\n",
    "print(f'\\nTest time: {test_time}')"
   ]
  },
  {
   "cell_type": "code",
   "execution_count": null,
   "id": "b90e3f66",
   "metadata": {},
   "outputs": [],
   "source": []
  }
 ],
 "metadata": {
  "kernelspec": {
   "display_name": "Python 3 (ipykernel)",
   "language": "python",
   "name": "python3"
  },
  "language_info": {
   "codemirror_mode": {
    "name": "ipython",
    "version": 3
   },
   "file_extension": ".py",
   "mimetype": "text/x-python",
   "name": "python",
   "nbconvert_exporter": "python",
   "pygments_lexer": "ipython3",
   "version": "3.9.7"
  }
 },
 "nbformat": 4,
 "nbformat_minor": 5
}
