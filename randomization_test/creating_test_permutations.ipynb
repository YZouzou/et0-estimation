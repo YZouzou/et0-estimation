{
 "cells": [
  {
   "cell_type": "markdown",
   "id": "de2a911c",
   "metadata": {},
   "source": [
    "# Randomization Test: Creating cluster permutations\n",
    "In this notebook, 1000 permutations of cluster definitions are created by randomly assigning stations to 7 clusters in each permutation. The number of datapoints in each cluster is determined by sampling from a 7th order Dirichlet distribution (Eq. 1) in each iteration.\n",
    "\n",
    "$$ f(y^7) = \\frac{\\Gamma(\\alpha_0)}{\\prod_{i=1}^{7} \\Gamma(\\alpha_i)} \\prod_{i=1}^{7} y_i^{\\alpha_i - 1} \\tag{1}$$\n",
    "\n",
    "$$  \\alpha_0 = \\sum^{7}_{i=1} \\alpha_i $$\n",
    "\n",
    "The parameters of the Dirichlet distribution were defined as follows:\n",
    "\n",
    "$$ \\alpha_i =  \\frac{\\beta n_i}{N} \\tag{2}$$\n",
    "\n",
    "Where:\n",
    "* $n_i$: The number of data points in the ith region of the regions used in this study\n",
    "* $N$: The total number of datapoints\n",
    "* $\\beta$: Concentration parameter\n",
    "\n",
    "By using this parameter definition, the mean of this 7th order Dirichlet distribution (Eq. 3) would be a 7 dimensional vector, where each of its 7 values represents the ratio of the region dataset size to the total number of datapoints. The value of the concentration parameter determines how dispersed are the samples around the mean.\n",
    "\n",
    "$$  E[y_i] = \\frac{\\alpha_i}{\\alpha_0} \\tag{3}$$\n",
    "\n",
    "Source:\n",
    "* Daniel Johnson (https://stats.stackexchange.com/users/8242/daniel-johnson), How to sample natural numbers, such that the sum is equal to a constant?, URL (version: 2012-03-01): https://stats.stackexchange.com/q/23959\n",
    "\n",
    "**Note**:\n",
    "* The functions used in this notebook are found in *ETProject/RandomizationTest*."
   ]
  },
  {
   "cell_type": "code",
   "execution_count": 1,
   "id": "14ef925c",
   "metadata": {},
   "outputs": [],
   "source": [
    "import pandas as pd\n",
    "import numpy as np\n",
    "import matplotlib.pyplot as plt\n",
    "import os\n",
    "from pathlib import Path\n",
    "from scipy.stats import dirichlet\n",
    "\n",
    "# Changing directory path\n",
    "main_dir_path = Path.cwd().parents[0]\n",
    "os.chdir(main_dir_path)\n",
    "\n",
    "from ETProject.RandomizationTest import *"
   ]
  },
  {
   "cell_type": "markdown",
   "id": "97c13d80",
   "metadata": {},
   "source": [
    "Loading data"
   ]
  },
  {
   "cell_type": "code",
   "execution_count": 2,
   "id": "8805795f",
   "metadata": {},
   "outputs": [],
   "source": [
    "path = 'processed_data/station_definitions.csv'\n",
    "st_def = pd.read_csv(path)\n",
    "\n",
    "path = 'processed_data/et_data.csv'\n",
    "all_data = pd.read_csv(path)"
   ]
  },
  {
   "cell_type": "markdown",
   "id": "f9422dff",
   "metadata": {},
   "source": [
    "Exploring original regions"
   ]
  },
  {
   "cell_type": "code",
   "execution_count": 19,
   "id": "9e8c11ea",
   "metadata": {},
   "outputs": [
    {
     "data": {
      "text/html": [
       "<div>\n",
       "<style scoped>\n",
       "    .dataframe tbody tr th:only-of-type {\n",
       "        vertical-align: middle;\n",
       "    }\n",
       "\n",
       "    .dataframe tbody tr th {\n",
       "        vertical-align: top;\n",
       "    }\n",
       "\n",
       "    .dataframe thead tr th {\n",
       "        text-align: left;\n",
       "    }\n",
       "\n",
       "    .dataframe thead tr:last-of-type th {\n",
       "        text-align: right;\n",
       "    }\n",
       "</style>\n",
       "<table border=\"1\" class=\"dataframe\">\n",
       "  <thead>\n",
       "    <tr>\n",
       "      <th></th>\n",
       "      <th colspan=\"2\" halign=\"left\">st_num</th>\n",
       "    </tr>\n",
       "    <tr>\n",
       "      <th></th>\n",
       "      <th>count</th>\n",
       "      <th>nunique</th>\n",
       "    </tr>\n",
       "    <tr>\n",
       "      <th>region</th>\n",
       "      <th></th>\n",
       "      <th></th>\n",
       "    </tr>\n",
       "  </thead>\n",
       "  <tbody>\n",
       "    <tr>\n",
       "      <th>Aegean</th>\n",
       "      <td>8328</td>\n",
       "      <td>33</td>\n",
       "    </tr>\n",
       "    <tr>\n",
       "      <th>Black Sea</th>\n",
       "      <td>4488</td>\n",
       "      <td>20</td>\n",
       "    </tr>\n",
       "    <tr>\n",
       "      <th>Central Anatolia</th>\n",
       "      <td>10020</td>\n",
       "      <td>35</td>\n",
       "    </tr>\n",
       "    <tr>\n",
       "      <th>Eastern Anatolia</th>\n",
       "      <td>7932</td>\n",
       "      <td>22</td>\n",
       "    </tr>\n",
       "    <tr>\n",
       "      <th>Marmara</th>\n",
       "      <td>6012</td>\n",
       "      <td>28</td>\n",
       "    </tr>\n",
       "    <tr>\n",
       "      <th>Mediterranean</th>\n",
       "      <td>5028</td>\n",
       "      <td>19</td>\n",
       "    </tr>\n",
       "    <tr>\n",
       "      <th>Southeastern Anatolia</th>\n",
       "      <td>2580</td>\n",
       "      <td>8</td>\n",
       "    </tr>\n",
       "  </tbody>\n",
       "</table>\n",
       "</div>"
      ],
      "text/plain": [
       "                      st_num        \n",
       "                       count nunique\n",
       "region                              \n",
       "Aegean                  8328      33\n",
       "Black Sea               4488      20\n",
       "Central Anatolia       10020      35\n",
       "Eastern Anatolia        7932      22\n",
       "Marmara                 6012      28\n",
       "Mediterranean           5028      19\n",
       "Southeastern Anatolia   2580       8"
      ]
     },
     "execution_count": 19,
     "metadata": {},
     "output_type": "execute_result"
    }
   ],
   "source": [
    "all_data.groupby('region')[['st_num']].aggregate(['count', 'nunique'])"
   ]
  },
  {
   "cell_type": "code",
   "execution_count": 25,
   "id": "26bb86c4",
   "metadata": {},
   "outputs": [
    {
     "data": {
      "text/plain": [
       "array([ 8328,  4488, 10020,  7932,  6012,  5028,  2580], dtype=int64)"
      ]
     },
     "execution_count": 25,
     "metadata": {},
     "output_type": "execute_result"
    }
   ],
   "source": [
    "original_data_cluster_sizes = all_data.groupby('region')['st_num'].count().to_numpy()\n",
    "original_data_cluster_sizes"
   ]
  },
  {
   "cell_type": "markdown",
   "id": "df332a50",
   "metadata": {},
   "source": [
    "## Creating cluster permutations\n",
    "A total of 1150 permutations were created, where only 1000 are required for the randomization test. The additional 150 are to replace the permutations with extreme values as descriped below."
   ]
  },
  {
   "cell_type": "code",
   "execution_count": 52,
   "id": "8649bd31",
   "metadata": {},
   "outputs": [],
   "source": [
    "# Creating 1150 permutations to replace the permutations with extreme\n",
    "# cluster ratio and test ratio values and obtain 1000 permutations\n",
    "n = 1150\n",
    "\n",
    "# Uncomment the following line to create cluster permutations\n",
    "# df = permutate_clusters(n, all_data)"
   ]
  },
  {
   "cell_type": "code",
   "execution_count": 30,
   "id": "7b47e82f",
   "metadata": {},
   "outputs": [
    {
     "data": {
      "text/html": [
       "<div>\n",
       "<style scoped>\n",
       "    .dataframe tbody tr th:only-of-type {\n",
       "        vertical-align: middle;\n",
       "    }\n",
       "\n",
       "    .dataframe tbody tr th {\n",
       "        vertical-align: top;\n",
       "    }\n",
       "\n",
       "    .dataframe thead th {\n",
       "        text-align: right;\n",
       "    }\n",
       "</style>\n",
       "<table border=\"1\" class=\"dataframe\">\n",
       "  <thead>\n",
       "    <tr style=\"text-align: right;\">\n",
       "      <th></th>\n",
       "      <th>st_num</th>\n",
       "      <th>iter</th>\n",
       "      <th>cluster</th>\n",
       "      <th>dataset</th>\n",
       "    </tr>\n",
       "  </thead>\n",
       "  <tbody>\n",
       "    <tr>\n",
       "      <th>0</th>\n",
       "      <td>17246</td>\n",
       "      <td>1</td>\n",
       "      <td>1</td>\n",
       "      <td>test</td>\n",
       "    </tr>\n",
       "    <tr>\n",
       "      <th>1</th>\n",
       "      <td>17981</td>\n",
       "      <td>1</td>\n",
       "      <td>1</td>\n",
       "      <td>train</td>\n",
       "    </tr>\n",
       "    <tr>\n",
       "      <th>2</th>\n",
       "      <td>17674</td>\n",
       "      <td>1</td>\n",
       "      <td>1</td>\n",
       "      <td>train</td>\n",
       "    </tr>\n",
       "    <tr>\n",
       "      <th>3</th>\n",
       "      <td>17608</td>\n",
       "      <td>1</td>\n",
       "      <td>1</td>\n",
       "      <td>test</td>\n",
       "    </tr>\n",
       "    <tr>\n",
       "      <th>4</th>\n",
       "      <td>17070</td>\n",
       "      <td>1</td>\n",
       "      <td>1</td>\n",
       "      <td>train</td>\n",
       "    </tr>\n",
       "  </tbody>\n",
       "</table>\n",
       "</div>"
      ],
      "text/plain": [
       "   st_num  iter  cluster dataset\n",
       "0   17246     1        1    test\n",
       "1   17981     1        1   train\n",
       "2   17674     1        1   train\n",
       "3   17608     1        1    test\n",
       "4   17070     1        1   train"
      ]
     },
     "execution_count": 30,
     "metadata": {},
     "output_type": "execute_result"
    }
   ],
   "source": [
    "df.head()"
   ]
  },
  {
   "cell_type": "code",
   "execution_count": 55,
   "id": "870333d2",
   "metadata": {},
   "outputs": [],
   "source": [
    "def get_permutation_test_stats(perm_data, all_data):\n",
    "    '''\n",
    "    Return a dataframe containing the test_ratio and cluster ratio\n",
    "    of each cluster in all permutations.\n",
    "    '''\n",
    "    vals_per_station = all_data['st_num'].value_counts()\n",
    "    \n",
    "    # List to combine iteration stats\n",
    "    df_list = []\n",
    "    \n",
    "    clusters = perm_data['cluster'].unique()\n",
    "    \n",
    "    for iter_num in perm_data['iter'].unique():\n",
    "        cond = perm_data['iter'] == iter_num\n",
    "        df = perm_data[cond]\n",
    "        \n",
    "        test_ratios = []\n",
    "        cluster_ratios = []\n",
    "        \n",
    "        for cluster in clusters:\n",
    "            cond = df['cluster'] == cluster\n",
    "            stations = df.loc[cond, 'st_num'].to_list()\n",
    "            n_data = vals_per_station[stations].sum()\n",
    "            cluster_ratios.append(n_data / vals_per_station.sum())\n",
    "            \n",
    "            # Test ratio\n",
    "            cond1 = df['dataset'] == 'test'\n",
    "            test_stations = df.loc[(cond & cond1), 'st_num'].to_list()\n",
    "            test_ratios.append(vals_per_station[test_stations].sum() / n_data)\n",
    "            \n",
    "        df_list.append(pd.DataFrame({\n",
    "            'iter': iter_num,\n",
    "            'cluster': clusters,\n",
    "            'cluster_ratio': cluster_ratios,\n",
    "            'test_ratio': test_ratios\n",
    "        }))\n",
    "        \n",
    "    return pd.concat(df_list, ignore_index=True)"
   ]
  },
  {
   "cell_type": "code",
   "execution_count": 31,
   "id": "d6493269",
   "metadata": {},
   "outputs": [],
   "source": [
    "perm_stats = get_permutation_test_stats(df, all_data)"
   ]
  },
  {
   "cell_type": "code",
   "execution_count": 39,
   "id": "475d52f9",
   "metadata": {},
   "outputs": [
    {
     "data": {
      "text/plain": [
       "array([0.22573669, 0.18761828, 0.17869695, 0.13544201, 0.11327386,\n",
       "       0.10110841, 0.05812382])"
      ]
     },
     "execution_count": 39,
     "metadata": {},
     "output_type": "execute_result"
    }
   ],
   "source": [
    "# Original data cluster ratios\n",
    "np.sort(original_data_cluster_sizes / all_data.shape[0])[::-1]"
   ]
  },
  {
   "cell_type": "markdown",
   "id": "86c0febf",
   "metadata": {},
   "source": [
    "Clustyer permutations with extreem values are dropped as follows:\n",
    "* Cluster ratios less than 0.03 are dropped\n",
    "* Out of the remaining 150 additional permutations after dropping the previous condition, the highest test_ratios are dropped."
   ]
  },
  {
   "cell_type": "code",
   "execution_count": 150,
   "id": "d1c13aa9",
   "metadata": {},
   "outputs": [],
   "source": [
    "n_to_drop = 150\n",
    "\n",
    "# Dropping cluster ratios less than 0.03\n",
    "cond = perm_stats['cluster_ratio'] < 0.03\n",
    "iter_to_drop = perm_stats.loc[cond, 'iter'].to_list()\n",
    "n_to_drop = n_to_drop - np.unique(iter_to_drop).shape[0]\n",
    "\n",
    "# Dropping highest test ratios\n",
    "while n_to_drop > 0:\n",
    "    cond = perm_stats['iter'].isin(iter_to_drop)\n",
    "    iter_to_drop += perm_stats.loc[~cond].sort_values(by=['test_ratio'], ascending=False).head(n_to_drop)['iter'].to_list()\n",
    "    n_to_drop = 150 - np.unique(iter_to_drop).shape[0]\n",
    "    \n",
    "iter_to_drop = np.unique(np.array(iter_to_drop))"
   ]
  },
  {
   "cell_type": "code",
   "execution_count": 164,
   "id": "6212c8f7",
   "metadata": {},
   "outputs": [],
   "source": [
    "# Constructing new permutation dataframe\n",
    "cond = df['iter'].isin(iter_to_drop)\n",
    "df1 = df.drop(index=df[cond].index)\n",
    "\n",
    "# Renumber iterations (permutation numbers)\n",
    "repl_dict = dict(zip(np.sort(df1['iter'].unique()), np.arange(1, df1['iter'].unique().shape[0]+1)))\n",
    "df1['iter'] = df1['iter'].replace(repl_dict)"
   ]
  },
  {
   "cell_type": "code",
   "execution_count": 40,
   "id": "0b7e5a11",
   "metadata": {},
   "outputs": [],
   "source": [
    "mod_perm_stats = get_permutation_test_stats(df1, all_data)"
   ]
  },
  {
   "cell_type": "code",
   "execution_count": 41,
   "id": "2cd610ed",
   "metadata": {},
   "outputs": [
    {
     "data": {
      "text/html": [
       "<div>\n",
       "<style scoped>\n",
       "    .dataframe tbody tr th:only-of-type {\n",
       "        vertical-align: middle;\n",
       "    }\n",
       "\n",
       "    .dataframe tbody tr th {\n",
       "        vertical-align: top;\n",
       "    }\n",
       "\n",
       "    .dataframe thead tr th {\n",
       "        text-align: left;\n",
       "    }\n",
       "\n",
       "    .dataframe thead tr:last-of-type th {\n",
       "        text-align: right;\n",
       "    }\n",
       "</style>\n",
       "<table border=\"1\" class=\"dataframe\">\n",
       "  <thead>\n",
       "    <tr>\n",
       "      <th></th>\n",
       "      <th colspan=\"3\" halign=\"left\">cluster_ratio</th>\n",
       "      <th colspan=\"3\" halign=\"left\">test_ratio</th>\n",
       "    </tr>\n",
       "    <tr>\n",
       "      <th></th>\n",
       "      <th>min</th>\n",
       "      <th>max</th>\n",
       "      <th>mean</th>\n",
       "      <th>min</th>\n",
       "      <th>max</th>\n",
       "      <th>mean</th>\n",
       "    </tr>\n",
       "    <tr>\n",
       "      <th>cluster</th>\n",
       "      <th></th>\n",
       "      <th></th>\n",
       "      <th></th>\n",
       "      <th></th>\n",
       "      <th></th>\n",
       "      <th></th>\n",
       "    </tr>\n",
       "  </thead>\n",
       "  <tbody>\n",
       "    <tr>\n",
       "      <th>1</th>\n",
       "      <td>0.110570</td>\n",
       "      <td>0.408218</td>\n",
       "      <td>0.222569</td>\n",
       "      <td>0.345840</td>\n",
       "      <td>0.477941</td>\n",
       "      <td>0.388934</td>\n",
       "    </tr>\n",
       "    <tr>\n",
       "      <th>2</th>\n",
       "      <td>0.089484</td>\n",
       "      <td>0.307921</td>\n",
       "      <td>0.184600</td>\n",
       "      <td>0.338614</td>\n",
       "      <td>0.482000</td>\n",
       "      <td>0.391998</td>\n",
       "    </tr>\n",
       "    <tr>\n",
       "      <th>3</th>\n",
       "      <td>0.080562</td>\n",
       "      <td>0.283861</td>\n",
       "      <td>0.175424</td>\n",
       "      <td>0.317130</td>\n",
       "      <td>0.499246</td>\n",
       "      <td>0.392705</td>\n",
       "    </tr>\n",
       "    <tr>\n",
       "      <th>4</th>\n",
       "      <td>0.058124</td>\n",
       "      <td>0.276021</td>\n",
       "      <td>0.136444</td>\n",
       "      <td>0.318091</td>\n",
       "      <td>0.520690</td>\n",
       "      <td>0.402149</td>\n",
       "    </tr>\n",
       "    <tr>\n",
       "      <th>5</th>\n",
       "      <td>0.038118</td>\n",
       "      <td>0.210868</td>\n",
       "      <td>0.113714</td>\n",
       "      <td>0.302949</td>\n",
       "      <td>0.532609</td>\n",
       "      <td>0.409463</td>\n",
       "    </tr>\n",
       "    <tr>\n",
       "      <th>6</th>\n",
       "      <td>0.031089</td>\n",
       "      <td>0.215734</td>\n",
       "      <td>0.102064</td>\n",
       "      <td>0.315018</td>\n",
       "      <td>0.555556</td>\n",
       "      <td>0.413248</td>\n",
       "    </tr>\n",
       "    <tr>\n",
       "      <th>7</th>\n",
       "      <td>0.030008</td>\n",
       "      <td>0.177886</td>\n",
       "      <td>0.065184</td>\n",
       "      <td>0.295597</td>\n",
       "      <td>0.556291</td>\n",
       "      <td>0.430561</td>\n",
       "    </tr>\n",
       "  </tbody>\n",
       "</table>\n",
       "</div>"
      ],
      "text/plain": [
       "        cluster_ratio                     test_ratio                    \n",
       "                  min       max      mean        min       max      mean\n",
       "cluster                                                                 \n",
       "1            0.110570  0.408218  0.222569   0.345840  0.477941  0.388934\n",
       "2            0.089484  0.307921  0.184600   0.338614  0.482000  0.391998\n",
       "3            0.080562  0.283861  0.175424   0.317130  0.499246  0.392705\n",
       "4            0.058124  0.276021  0.136444   0.318091  0.520690  0.402149\n",
       "5            0.038118  0.210868  0.113714   0.302949  0.532609  0.409463\n",
       "6            0.031089  0.215734  0.102064   0.315018  0.555556  0.413248\n",
       "7            0.030008  0.177886  0.065184   0.295597  0.556291  0.430561"
      ]
     },
     "execution_count": 41,
     "metadata": {},
     "output_type": "execute_result"
    }
   ],
   "source": [
    "mod_perm_stats.groupby('cluster')[['cluster_ratio', 'test_ratio']].aggregate(['min', 'max', 'mean'])"
   ]
  },
  {
   "cell_type": "code",
   "execution_count": 42,
   "id": "c0292f6b",
   "metadata": {},
   "outputs": [
    {
     "data": {
      "text/plain": [
       "0.40415111294885386"
      ]
     },
     "execution_count": 42,
     "metadata": {},
     "output_type": "execute_result"
    }
   ],
   "source": [
    "mod_perm_stats['test_ratio'].mean()"
   ]
  },
  {
   "cell_type": "markdown",
   "id": "210af401",
   "metadata": {},
   "source": [
    "### Plotting permutation cluster ratios and test dataset ratios\n",
    "*The diamond markers represent the ratio of the region dataset size to the total dataset size of the corresponding region dataset used this study. Ex: Cluster 1 simulates Central Anatolia, i.e., the largest region dataset.*"
   ]
  },
  {
   "cell_type": "code",
   "execution_count": 53,
   "id": "02f94e83",
   "metadata": {},
   "outputs": [
    {
     "data": {
      "image/png": "[encoded data removed]",
      "text/plain": [
       "<Figure size 1152x432 with 2 Axes>"
      ]
     },
     "metadata": {
      "needs_background": "light"
     },
     "output_type": "display_data"
    }
   ],
   "source": [
    "fig, axs = plt.subplots(1, 2, figsize=(16, 6))\n",
    "dataset_size = all_data.shape[0]\n",
    "\n",
    "# Plotting cluster dataset sizes\n",
    "ax = axs[0]\n",
    "graph = perm_stats.copy()\n",
    "graph['cluster_size'] = dataset_size * graph['cluster_ratio']\n",
    "graph.boxplot(ax=ax, column='cluster_size', by='cluster')\n",
    "\n",
    "ax.grid(axis='x')\n",
    "x = np.arange(1, len(original_data_cluster_sizes)+1)\n",
    "ax.scatter(x=x, y=np.sort(original_data_cluster_sizes)[::-1], marker='d', color='black', label='Number of data points in the relevant region')\n",
    "\n",
    "# Annotation\n",
    "ax.set_ylabel('Number of data points')\n",
    "ax.set_xlabel('Cluster')\n",
    "ax.set_title('Cluster dataset size')\n",
    "\n",
    "ax.legend()\n",
    "\n",
    "# Plotting test ratio boxplot\n",
    "ax = axs[1]\n",
    "mod_perm_stats.boxplot(ax=ax, column='test_ratio', by='cluster')\n",
    "ax.grid(axis='x')\n",
    "ax.set_xlabel('Cluster')\n",
    "ax.set_ylabel('Test ratio')\n",
    "ax.set_title('Test ratios')\n",
    "\n",
    "fig.suptitle(None)\n",
    "plt.show()"
   ]
  },
  {
   "cell_type": "code",
   "execution_count": 174,
   "id": "a525a845",
   "metadata": {},
   "outputs": [],
   "source": [
    "df1 = df1.sort_values(['iter', 'cluster'])"
   ]
  },
  {
   "cell_type": "code",
   "execution_count": 175,
   "id": "9cef93e3",
   "metadata": {},
   "outputs": [],
   "source": [
    "path = 'randomization_test'\n",
    "\n",
    "file_name = 'cluster_permutations.csv'\n",
    "# df1.to_csv(os.path.join(path, file_name), index=False)\n",
    "\n",
    "file_name = 'permutation_stats.csv'\n",
    "# mod_perm_stats.to_csv(os.path.join(path, file_name), index=False)"
   ]
  },
  {
   "cell_type": "code",
   "execution_count": null,
   "id": "1ba4e952",
   "metadata": {},
   "outputs": [],
   "source": []
  }
 ],
 "metadata": {
  "kernelspec": {
   "display_name": "Python 3 (ipykernel)",
   "language": "python",
   "name": "python3"
  },
  "language_info": {
   "codemirror_mode": {
    "name": "ipython",
    "version": 3
   },
   "file_extension": ".py",
   "mimetype": "text/x-python",
   "name": "python",
   "nbconvert_exporter": "python",
   "pygments_lexer": "ipython3",
   "version": "3.9.7"
  }
 },
 "nbformat": 4,
 "nbformat_minor": 5
}
